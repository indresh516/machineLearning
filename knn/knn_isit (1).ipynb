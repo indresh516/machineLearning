{
  "nbformat": 4,
  "nbformat_minor": 0,
  "metadata": {
    "colab": {
      "provenance": []
    },
    "kernelspec": {
      "name": "python3",
      "display_name": "Python 3"
    },
    "language_info": {
      "name": "python"
    }
  },
  "cells": [
    {
      "cell_type": "code",
      "source": [
        "# Session Plan\n",
        "\n",
        "# Sub-Topics\n",
        "# classification in NearestNeighbours\n",
        "# Regression in NearestNeighbours\n",
        "# Understanding scikit datasets\n",
        "# Kaggle & Kaggle Datasets\n",
        "# Application using Regression in NN\n",
        "# Session Details\n",
        "\n",
        "# Practice Resources:\n",
        "\n",
        "# https://towardsdatascience.com/deep-neural-networks-for-regression-problems-81321897ca33\n",
        "# https://machinelearningmastery.com/neural-network-models-for-combined-classification-and-regression/"
      ],
      "metadata": {
        "id": "FVfZ9mmm4DTP"
      },
      "execution_count": null,
      "outputs": []
    },
    {
      "cell_type": "code",
      "source": [
        "import pandas as pd\n",
        "import numpy as np "
      ],
      "metadata": {
        "id": "qWKamtLcg_pA"
      },
      "execution_count": 1,
      "outputs": []
    },
    {
      "cell_type": "code",
      "source": [
        "from google.colab import files\n",
        "files.upload()"
      ],
      "metadata": {
        "colab": {
          "base_uri": "https://localhost:8080/",
          "height": 129
        },
        "id": "rQiJ5ikbhR4P",
        "outputId": "0be5cf07-968f-4484-ca46-6fd6f75f9b51"
      },
      "execution_count": 2,
      "outputs": [
        {
          "output_type": "display_data",
          "data": {
            "text/plain": [
              "<IPython.core.display.HTML object>"
            ],
            "text/html": [
              "\n",
              "     <input type=\"file\" id=\"files-8ba13901-ba63-4c2c-81e8-02dd4048280e\" name=\"files[]\" multiple disabled\n",
              "        style=\"border:none\" />\n",
              "     <output id=\"result-8ba13901-ba63-4c2c-81e8-02dd4048280e\">\n",
              "      Upload widget is only available when the cell has been executed in the\n",
              "      current browser session. Please rerun this cell to enable.\n",
              "      </output>\n",
              "      <script>// Copyright 2017 Google LLC\n",
              "//\n",
              "// Licensed under the Apache License, Version 2.0 (the \"License\");\n",
              "// you may not use this file except in compliance with the License.\n",
              "// You may obtain a copy of the License at\n",
              "//\n",
              "//      http://www.apache.org/licenses/LICENSE-2.0\n",
              "//\n",
              "// Unless required by applicable law or agreed to in writing, software\n",
              "// distributed under the License is distributed on an \"AS IS\" BASIS,\n",
              "// WITHOUT WARRANTIES OR CONDITIONS OF ANY KIND, either express or implied.\n",
              "// See the License for the specific language governing permissions and\n",
              "// limitations under the License.\n",
              "\n",
              "/**\n",
              " * @fileoverview Helpers for google.colab Python module.\n",
              " */\n",
              "(function(scope) {\n",
              "function span(text, styleAttributes = {}) {\n",
              "  const element = document.createElement('span');\n",
              "  element.textContent = text;\n",
              "  for (const key of Object.keys(styleAttributes)) {\n",
              "    element.style[key] = styleAttributes[key];\n",
              "  }\n",
              "  return element;\n",
              "}\n",
              "\n",
              "// Max number of bytes which will be uploaded at a time.\n",
              "const MAX_PAYLOAD_SIZE = 100 * 1024;\n",
              "\n",
              "function _uploadFiles(inputId, outputId) {\n",
              "  const steps = uploadFilesStep(inputId, outputId);\n",
              "  const outputElement = document.getElementById(outputId);\n",
              "  // Cache steps on the outputElement to make it available for the next call\n",
              "  // to uploadFilesContinue from Python.\n",
              "  outputElement.steps = steps;\n",
              "\n",
              "  return _uploadFilesContinue(outputId);\n",
              "}\n",
              "\n",
              "// This is roughly an async generator (not supported in the browser yet),\n",
              "// where there are multiple asynchronous steps and the Python side is going\n",
              "// to poll for completion of each step.\n",
              "// This uses a Promise to block the python side on completion of each step,\n",
              "// then passes the result of the previous step as the input to the next step.\n",
              "function _uploadFilesContinue(outputId) {\n",
              "  const outputElement = document.getElementById(outputId);\n",
              "  const steps = outputElement.steps;\n",
              "\n",
              "  const next = steps.next(outputElement.lastPromiseValue);\n",
              "  return Promise.resolve(next.value.promise).then((value) => {\n",
              "    // Cache the last promise value to make it available to the next\n",
              "    // step of the generator.\n",
              "    outputElement.lastPromiseValue = value;\n",
              "    return next.value.response;\n",
              "  });\n",
              "}\n",
              "\n",
              "/**\n",
              " * Generator function which is called between each async step of the upload\n",
              " * process.\n",
              " * @param {string} inputId Element ID of the input file picker element.\n",
              " * @param {string} outputId Element ID of the output display.\n",
              " * @return {!Iterable<!Object>} Iterable of next steps.\n",
              " */\n",
              "function* uploadFilesStep(inputId, outputId) {\n",
              "  const inputElement = document.getElementById(inputId);\n",
              "  inputElement.disabled = false;\n",
              "\n",
              "  const outputElement = document.getElementById(outputId);\n",
              "  outputElement.innerHTML = '';\n",
              "\n",
              "  const pickedPromise = new Promise((resolve) => {\n",
              "    inputElement.addEventListener('change', (e) => {\n",
              "      resolve(e.target.files);\n",
              "    });\n",
              "  });\n",
              "\n",
              "  const cancel = document.createElement('button');\n",
              "  inputElement.parentElement.appendChild(cancel);\n",
              "  cancel.textContent = 'Cancel upload';\n",
              "  const cancelPromise = new Promise((resolve) => {\n",
              "    cancel.onclick = () => {\n",
              "      resolve(null);\n",
              "    };\n",
              "  });\n",
              "\n",
              "  // Wait for the user to pick the files.\n",
              "  const files = yield {\n",
              "    promise: Promise.race([pickedPromise, cancelPromise]),\n",
              "    response: {\n",
              "      action: 'starting',\n",
              "    }\n",
              "  };\n",
              "\n",
              "  cancel.remove();\n",
              "\n",
              "  // Disable the input element since further picks are not allowed.\n",
              "  inputElement.disabled = true;\n",
              "\n",
              "  if (!files) {\n",
              "    return {\n",
              "      response: {\n",
              "        action: 'complete',\n",
              "      }\n",
              "    };\n",
              "  }\n",
              "\n",
              "  for (const file of files) {\n",
              "    const li = document.createElement('li');\n",
              "    li.append(span(file.name, {fontWeight: 'bold'}));\n",
              "    li.append(span(\n",
              "        `(${file.type || 'n/a'}) - ${file.size} bytes, ` +\n",
              "        `last modified: ${\n",
              "            file.lastModifiedDate ? file.lastModifiedDate.toLocaleDateString() :\n",
              "                                    'n/a'} - `));\n",
              "    const percent = span('0% done');\n",
              "    li.appendChild(percent);\n",
              "\n",
              "    outputElement.appendChild(li);\n",
              "\n",
              "    const fileDataPromise = new Promise((resolve) => {\n",
              "      const reader = new FileReader();\n",
              "      reader.onload = (e) => {\n",
              "        resolve(e.target.result);\n",
              "      };\n",
              "      reader.readAsArrayBuffer(file);\n",
              "    });\n",
              "    // Wait for the data to be ready.\n",
              "    let fileData = yield {\n",
              "      promise: fileDataPromise,\n",
              "      response: {\n",
              "        action: 'continue',\n",
              "      }\n",
              "    };\n",
              "\n",
              "    // Use a chunked sending to avoid message size limits. See b/62115660.\n",
              "    let position = 0;\n",
              "    do {\n",
              "      const length = Math.min(fileData.byteLength - position, MAX_PAYLOAD_SIZE);\n",
              "      const chunk = new Uint8Array(fileData, position, length);\n",
              "      position += length;\n",
              "\n",
              "      const base64 = btoa(String.fromCharCode.apply(null, chunk));\n",
              "      yield {\n",
              "        response: {\n",
              "          action: 'append',\n",
              "          file: file.name,\n",
              "          data: base64,\n",
              "        },\n",
              "      };\n",
              "\n",
              "      let percentDone = fileData.byteLength === 0 ?\n",
              "          100 :\n",
              "          Math.round((position / fileData.byteLength) * 100);\n",
              "      percent.textContent = `${percentDone}% done`;\n",
              "\n",
              "    } while (position < fileData.byteLength);\n",
              "  }\n",
              "\n",
              "  // All done.\n",
              "  yield {\n",
              "    response: {\n",
              "      action: 'complete',\n",
              "    }\n",
              "  };\n",
              "}\n",
              "\n",
              "scope.google = scope.google || {};\n",
              "scope.google.colab = scope.google.colab || {};\n",
              "scope.google.colab._files = {\n",
              "  _uploadFiles,\n",
              "  _uploadFilesContinue,\n",
              "};\n",
              "})(self);\n",
              "</script> "
            ]
          },
          "metadata": {}
        },
        {
          "output_type": "stream",
          "name": "stdout",
          "text": [
            "Saving Social_Network_Ads.csv to Social_Network_Ads.csv\n"
          ]
        },
        {
          "output_type": "execute_result",
          "data": {
            "text/plain": [
              "{'Social_Network_Ads.csv': b'User ID,Gender,Age,EstimatedSalary,Purchased\\r\\n15624510,Male,19,19000,0\\r\\n15810944,Male,35,20000,0\\r\\n15668575,Female,26,43000,0\\r\\n15603246,Female,27,57000,0\\r\\n15804002,Male,19,76000,0\\r\\n15728773,Male,27,58000,0\\r\\n15598044,Female,27,84000,0\\r\\n15694829,Female,32,150000,1\\r\\n15600575,Male,25,33000,0\\r\\n15727311,Female,35,65000,0\\r\\n15570769,Female,26,80000,0\\r\\n15606274,Female,26,52000,0\\r\\n15746139,Male,20,86000,0\\r\\n15704987,Male,32,18000,0\\r\\n15628972,Male,18,82000,0\\r\\n15697686,Male,29,80000,0\\r\\n15733883,Male,47,25000,1\\r\\n15617482,Male,45,26000,1\\r\\n15704583,Male,46,28000,1\\r\\n15621083,Female,48,29000,1\\r\\n15649487,Male,45,22000,1\\r\\n15736760,Female,47,49000,1\\r\\n15714658,Male,48,41000,1\\r\\n15599081,Female,45,22000,1\\r\\n15705113,Male,46,23000,1\\r\\n15631159,Male,47,20000,1\\r\\n15792818,Male,49,28000,1\\r\\n15633531,Female,47,30000,1\\r\\n15744529,Male,29,43000,0\\r\\n15669656,Male,31,18000,0\\r\\n15581198,Male,31,74000,0\\r\\n15729054,Female,27,137000,1\\r\\n15573452,Female,21,16000,0\\r\\n15776733,Female,28,44000,0\\r\\n15724858,Male,27,90000,0\\r\\n15713144,Male,35,27000,0\\r\\n15690188,Female,33,28000,0\\r\\n15689425,Male,30,49000,0\\r\\n15671766,Female,26,72000,0\\r\\n15782806,Female,27,31000,0\\r\\n15764419,Female,27,17000,0\\r\\n15591915,Female,33,51000,0\\r\\n15772798,Male,35,108000,0\\r\\n15792008,Male,30,15000,0\\r\\n15715541,Female,28,84000,0\\r\\n15639277,Male,23,20000,0\\r\\n15798850,Male,25,79000,0\\r\\n15776348,Female,27,54000,0\\r\\n15727696,Male,30,135000,1\\r\\n15793813,Female,31,89000,0\\r\\n15694395,Female,24,32000,0\\r\\n15764195,Female,18,44000,0\\r\\n15744919,Female,29,83000,0\\r\\n15671655,Female,35,23000,0\\r\\n15654901,Female,27,58000,0\\r\\n15649136,Female,24,55000,0\\r\\n15775562,Female,23,48000,0\\r\\n15807481,Male,28,79000,0\\r\\n15642885,Male,22,18000,0\\r\\n15789109,Female,32,117000,0\\r\\n15814004,Male,27,20000,0\\r\\n15673619,Male,25,87000,0\\r\\n15595135,Female,23,66000,0\\r\\n15583681,Male,32,120000,1\\r\\n15605000,Female,59,83000,0\\r\\n15718071,Male,24,58000,0\\r\\n15679760,Male,24,19000,0\\r\\n15654574,Female,23,82000,0\\r\\n15577178,Female,22,63000,0\\r\\n15595324,Female,31,68000,0\\r\\n15756932,Male,25,80000,0\\r\\n15726358,Female,24,27000,0\\r\\n15595228,Female,20,23000,0\\r\\n15782530,Female,33,113000,0\\r\\n15592877,Male,32,18000,0\\r\\n15651983,Male,34,112000,1\\r\\n15746737,Male,18,52000,0\\r\\n15774179,Female,22,27000,0\\r\\n15667265,Female,28,87000,0\\r\\n15655123,Female,26,17000,0\\r\\n15595917,Male,30,80000,0\\r\\n15668385,Male,39,42000,0\\r\\n15709476,Male,20,49000,0\\r\\n15711218,Male,35,88000,0\\r\\n15798659,Female,30,62000,0\\r\\n15663939,Female,31,118000,1\\r\\n15694946,Male,24,55000,0\\r\\n15631912,Female,28,85000,0\\r\\n15768816,Male,26,81000,0\\r\\n15682268,Male,35,50000,0\\r\\n15684801,Male,22,81000,0\\r\\n15636428,Female,30,116000,0\\r\\n15809823,Male,26,15000,0\\r\\n15699284,Female,29,28000,0\\r\\n15786993,Female,29,83000,0\\r\\n15709441,Female,35,44000,0\\r\\n15710257,Female,35,25000,0\\r\\n15582492,Male,28,123000,1\\r\\n15575694,Male,35,73000,0\\r\\n15756820,Female,28,37000,0\\r\\n15766289,Male,27,88000,0\\r\\n15593014,Male,28,59000,0\\r\\n15584545,Female,32,86000,0\\r\\n15675949,Female,33,149000,1\\r\\n15672091,Female,19,21000,0\\r\\n15801658,Male,21,72000,0\\r\\n15706185,Female,26,35000,0\\r\\n15789863,Male,27,89000,0\\r\\n15720943,Male,26,86000,0\\r\\n15697997,Female,38,80000,0\\r\\n15665416,Female,39,71000,0\\r\\n15660200,Female,37,71000,0\\r\\n15619653,Male,38,61000,0\\r\\n15773447,Male,37,55000,0\\r\\n15739160,Male,42,80000,0\\r\\n15689237,Male,40,57000,0\\r\\n15679297,Male,35,75000,0\\r\\n15591433,Male,36,52000,0\\r\\n15642725,Male,40,59000,0\\r\\n15701962,Male,41,59000,0\\r\\n15811613,Female,36,75000,0\\r\\n15741049,Male,37,72000,0\\r\\n15724423,Female,40,75000,0\\r\\n15574305,Male,35,53000,0\\r\\n15678168,Female,41,51000,0\\r\\n15697020,Female,39,61000,0\\r\\n15610801,Male,42,65000,0\\r\\n15745232,Male,26,32000,0\\r\\n15722758,Male,30,17000,0\\r\\n15792102,Female,26,84000,0\\r\\n15675185,Male,31,58000,0\\r\\n15801247,Male,33,31000,0\\r\\n15725660,Male,30,87000,0\\r\\n15638963,Female,21,68000,0\\r\\n15800061,Female,28,55000,0\\r\\n15578006,Male,23,63000,0\\r\\n15668504,Female,20,82000,0\\r\\n15687491,Male,30,107000,1\\r\\n15610403,Female,28,59000,0\\r\\n15741094,Male,19,25000,0\\r\\n15807909,Male,19,85000,0\\r\\n15666141,Female,18,68000,0\\r\\n15617134,Male,35,59000,0\\r\\n15783029,Male,30,89000,0\\r\\n15622833,Female,34,25000,0\\r\\n15746422,Female,24,89000,0\\r\\n15750839,Female,27,96000,1\\r\\n15749130,Female,41,30000,0\\r\\n15779862,Male,29,61000,0\\r\\n15767871,Male,20,74000,0\\r\\n15679651,Female,26,15000,0\\r\\n15576219,Male,41,45000,0\\r\\n15699247,Male,31,76000,0\\r\\n15619087,Female,36,50000,0\\r\\n15605327,Male,40,47000,0\\r\\n15610140,Female,31,15000,0\\r\\n15791174,Male,46,59000,0\\r\\n15602373,Male,29,75000,0\\r\\n15762605,Male,26,30000,0\\r\\n15598840,Female,32,135000,1\\r\\n15744279,Male,32,100000,1\\r\\n15670619,Male,25,90000,0\\r\\n15599533,Female,37,33000,0\\r\\n15757837,Male,35,38000,0\\r\\n15697574,Female,33,69000,0\\r\\n15578738,Female,18,86000,0\\r\\n15762228,Female,22,55000,0\\r\\n15614827,Female,35,71000,0\\r\\n15789815,Male,29,148000,1\\r\\n15579781,Female,29,47000,0\\r\\n15587013,Male,21,88000,0\\r\\n15570932,Male,34,115000,0\\r\\n15794661,Female,26,118000,0\\r\\n15581654,Female,34,43000,0\\r\\n15644296,Female,34,72000,0\\r\\n15614420,Female,23,28000,0\\r\\n15609653,Female,35,47000,0\\r\\n15594577,Male,25,22000,0\\r\\n15584114,Male,24,23000,0\\r\\n15673367,Female,31,34000,0\\r\\n15685576,Male,26,16000,0\\r\\n15774727,Female,31,71000,0\\r\\n15694288,Female,32,117000,1\\r\\n15603319,Male,33,43000,0\\r\\n15759066,Female,33,60000,0\\r\\n15814816,Male,31,66000,0\\r\\n15724402,Female,20,82000,0\\r\\n15571059,Female,33,41000,0\\r\\n15674206,Male,35,72000,0\\r\\n15715160,Male,28,32000,0\\r\\n15730448,Male,24,84000,0\\r\\n15662067,Female,19,26000,0\\r\\n15779581,Male,29,43000,0\\r\\n15662901,Male,19,70000,0\\r\\n15689751,Male,28,89000,0\\r\\n15667742,Male,34,43000,0\\r\\n15738448,Female,30,79000,0\\r\\n15680243,Female,20,36000,0\\r\\n15745083,Male,26,80000,0\\r\\n15708228,Male,35,22000,0\\r\\n15628523,Male,35,39000,0\\r\\n15708196,Male,49,74000,0\\r\\n15735549,Female,39,134000,1\\r\\n15809347,Female,41,71000,0\\r\\n15660866,Female,58,101000,1\\r\\n15766609,Female,47,47000,0\\r\\n15654230,Female,55,130000,1\\r\\n15794566,Female,52,114000,0\\r\\n15800890,Female,40,142000,1\\r\\n15697424,Female,46,22000,0\\r\\n15724536,Female,48,96000,1\\r\\n15735878,Male,52,150000,1\\r\\n15707596,Female,59,42000,0\\r\\n15657163,Male,35,58000,0\\r\\n15622478,Male,47,43000,0\\r\\n15779529,Female,60,108000,1\\r\\n15636023,Male,49,65000,0\\r\\n15582066,Male,40,78000,0\\r\\n15666675,Female,46,96000,0\\r\\n15732987,Male,59,143000,1\\r\\n15789432,Female,41,80000,0\\r\\n15663161,Male,35,91000,1\\r\\n15694879,Male,37,144000,1\\r\\n15593715,Male,60,102000,1\\r\\n15575002,Female,35,60000,0\\r\\n15622171,Male,37,53000,0\\r\\n15795224,Female,36,126000,1\\r\\n15685346,Male,56,133000,1\\r\\n15691808,Female,40,72000,0\\r\\n15721007,Female,42,80000,1\\r\\n15794253,Female,35,147000,1\\r\\n15694453,Male,39,42000,0\\r\\n15813113,Male,40,107000,1\\r\\n15614187,Male,49,86000,1\\r\\n15619407,Female,38,112000,0\\r\\n15646227,Male,46,79000,1\\r\\n15660541,Male,40,57000,0\\r\\n15753874,Female,37,80000,0\\r\\n15617877,Female,46,82000,0\\r\\n15772073,Female,53,143000,1\\r\\n15701537,Male,42,149000,1\\r\\n15736228,Male,38,59000,0\\r\\n15780572,Female,50,88000,1\\r\\n15769596,Female,56,104000,1\\r\\n15586996,Female,41,72000,0\\r\\n15722061,Female,51,146000,1\\r\\n15638003,Female,35,50000,0\\r\\n15775590,Female,57,122000,1\\r\\n15730688,Male,41,52000,0\\r\\n15753102,Female,35,97000,1\\r\\n15810075,Female,44,39000,0\\r\\n15723373,Male,37,52000,0\\r\\n15795298,Female,48,134000,1\\r\\n15584320,Female,37,146000,1\\r\\n15724161,Female,50,44000,0\\r\\n15750056,Female,52,90000,1\\r\\n15609637,Female,41,72000,0\\r\\n15794493,Male,40,57000,0\\r\\n15569641,Female,58,95000,1\\r\\n15815236,Female,45,131000,1\\r\\n15811177,Female,35,77000,0\\r\\n15680587,Male,36,144000,1\\r\\n15672821,Female,55,125000,1\\r\\n15767681,Female,35,72000,0\\r\\n15600379,Male,48,90000,1\\r\\n15801336,Female,42,108000,1\\r\\n15721592,Male,40,75000,0\\r\\n15581282,Male,37,74000,0\\r\\n15746203,Female,47,144000,1\\r\\n15583137,Male,40,61000,0\\r\\n15680752,Female,43,133000,0\\r\\n15688172,Female,59,76000,1\\r\\n15791373,Male,60,42000,1\\r\\n15589449,Male,39,106000,1\\r\\n15692819,Female,57,26000,1\\r\\n15727467,Male,57,74000,1\\r\\n15734312,Male,38,71000,0\\r\\n15764604,Male,49,88000,1\\r\\n15613014,Female,52,38000,1\\r\\n15759684,Female,50,36000,1\\r\\n15609669,Female,59,88000,1\\r\\n15685536,Male,35,61000,0\\r\\n15750447,Male,37,70000,1\\r\\n15663249,Female,52,21000,1\\r\\n15638646,Male,48,141000,0\\r\\n15734161,Female,37,93000,1\\r\\n15631070,Female,37,62000,0\\r\\n15761950,Female,48,138000,1\\r\\n15649668,Male,41,79000,0\\r\\n15713912,Female,37,78000,1\\r\\n15586757,Male,39,134000,1\\r\\n15596522,Male,49,89000,1\\r\\n15625395,Male,55,39000,1\\r\\n15760570,Male,37,77000,0\\r\\n15566689,Female,35,57000,0\\r\\n15725794,Female,36,63000,0\\r\\n15673539,Male,42,73000,1\\r\\n15705298,Female,43,112000,1\\r\\n15675791,Male,45,79000,0\\r\\n15747043,Male,46,117000,1\\r\\n15736397,Female,58,38000,1\\r\\n15678201,Male,48,74000,1\\r\\n15720745,Female,37,137000,1\\r\\n15637593,Male,37,79000,1\\r\\n15598070,Female,40,60000,0\\r\\n15787550,Male,42,54000,0\\r\\n15603942,Female,51,134000,0\\r\\n15733973,Female,47,113000,1\\r\\n15596761,Male,36,125000,1\\r\\n15652400,Female,38,50000,0\\r\\n15717893,Female,42,70000,0\\r\\n15622585,Male,39,96000,1\\r\\n15733964,Female,38,50000,0\\r\\n15753861,Female,49,141000,1\\r\\n15747097,Female,39,79000,0\\r\\n15594762,Female,39,75000,1\\r\\n15667417,Female,54,104000,1\\r\\n15684861,Male,35,55000,0\\r\\n15742204,Male,45,32000,1\\r\\n15623502,Male,36,60000,0\\r\\n15774872,Female,52,138000,1\\r\\n15611191,Female,53,82000,1\\r\\n15674331,Male,41,52000,0\\r\\n15619465,Female,48,30000,1\\r\\n15575247,Female,48,131000,1\\r\\n15695679,Female,41,60000,0\\r\\n15713463,Male,41,72000,0\\r\\n15785170,Female,42,75000,0\\r\\n15796351,Male,36,118000,1\\r\\n15639576,Female,47,107000,1\\r\\n15693264,Male,38,51000,0\\r\\n15589715,Female,48,119000,1\\r\\n15769902,Male,42,65000,0\\r\\n15587177,Male,40,65000,0\\r\\n15814553,Male,57,60000,1\\r\\n15601550,Female,36,54000,0\\r\\n15664907,Male,58,144000,1\\r\\n15612465,Male,35,79000,0\\r\\n15810800,Female,38,55000,0\\r\\n15665760,Male,39,122000,1\\r\\n15588080,Female,53,104000,1\\r\\n15776844,Male,35,75000,0\\r\\n15717560,Female,38,65000,0\\r\\n15629739,Female,47,51000,1\\r\\n15729908,Male,47,105000,1\\r\\n15716781,Female,41,63000,0\\r\\n15646936,Male,53,72000,1\\r\\n15768151,Female,54,108000,1\\r\\n15579212,Male,39,77000,0\\r\\n15721835,Male,38,61000,0\\r\\n15800515,Female,38,113000,1\\r\\n15591279,Male,37,75000,0\\r\\n15587419,Female,42,90000,1\\r\\n15750335,Female,37,57000,0\\r\\n15699619,Male,36,99000,1\\r\\n15606472,Male,60,34000,1\\r\\n15778368,Male,54,70000,1\\r\\n15671387,Female,41,72000,0\\r\\n15573926,Male,40,71000,1\\r\\n15709183,Male,42,54000,0\\r\\n15577514,Male,43,129000,1\\r\\n15778830,Female,53,34000,1\\r\\n15768072,Female,47,50000,1\\r\\n15768293,Female,42,79000,0\\r\\n15654456,Male,42,104000,1\\r\\n15807525,Female,59,29000,1\\r\\n15574372,Female,58,47000,1\\r\\n15671249,Male,46,88000,1\\r\\n15779744,Male,38,71000,0\\r\\n15624755,Female,54,26000,1\\r\\n15611430,Female,60,46000,1\\r\\n15774744,Male,60,83000,1\\r\\n15629885,Female,39,73000,0\\r\\n15708791,Male,59,130000,1\\r\\n15793890,Female,37,80000,0\\r\\n15646091,Female,46,32000,1\\r\\n15596984,Female,46,74000,0\\r\\n15800215,Female,42,53000,0\\r\\n15577806,Male,41,87000,1\\r\\n15749381,Female,58,23000,1\\r\\n15683758,Male,42,64000,0\\r\\n15670615,Male,48,33000,1\\r\\n15715622,Female,44,139000,1\\r\\n15707634,Male,49,28000,1\\r\\n15806901,Female,57,33000,1\\r\\n15775335,Male,56,60000,1\\r\\n15724150,Female,49,39000,1\\r\\n15627220,Male,39,71000,0\\r\\n15672330,Male,47,34000,1\\r\\n15668521,Female,48,35000,1\\r\\n15807837,Male,48,33000,1\\r\\n15592570,Male,47,23000,1\\r\\n15748589,Female,45,45000,1\\r\\n15635893,Male,60,42000,1\\r\\n15757632,Female,39,59000,0\\r\\n15691863,Female,46,41000,1\\r\\n15706071,Male,51,23000,1\\r\\n15654296,Female,50,20000,1\\r\\n15755018,Male,36,33000,0\\r\\n15594041,Female,49,36000,1'}"
            ]
          },
          "metadata": {},
          "execution_count": 2
        }
      ]
    },
    {
      "cell_type": "code",
      "source": [
        "df = pd.read_csv(\"Social_Network_Ads.csv\")"
      ],
      "metadata": {
        "id": "4jdTFmPNhVu1"
      },
      "execution_count": 3,
      "outputs": []
    },
    {
      "cell_type": "code",
      "source": [
        "df"
      ],
      "metadata": {
        "colab": {
          "base_uri": "https://localhost:8080/",
          "height": 424
        },
        "id": "mD3yfvDDozGy",
        "outputId": "cbd5b890-3998-41c1-c65f-fecc431c8136"
      },
      "execution_count": 4,
      "outputs": [
        {
          "output_type": "execute_result",
          "data": {
            "text/plain": [
              "      User ID  Gender  Age  EstimatedSalary  Purchased\n",
              "0    15624510    Male   19            19000          0\n",
              "1    15810944    Male   35            20000          0\n",
              "2    15668575  Female   26            43000          0\n",
              "3    15603246  Female   27            57000          0\n",
              "4    15804002    Male   19            76000          0\n",
              "..        ...     ...  ...              ...        ...\n",
              "395  15691863  Female   46            41000          1\n",
              "396  15706071    Male   51            23000          1\n",
              "397  15654296  Female   50            20000          1\n",
              "398  15755018    Male   36            33000          0\n",
              "399  15594041  Female   49            36000          1\n",
              "\n",
              "[400 rows x 5 columns]"
            ],
            "text/html": [
              "\n",
              "  <div id=\"df-481e0036-70de-4d34-9687-376fdb43914d\">\n",
              "    <div class=\"colab-df-container\">\n",
              "      <div>\n",
              "<style scoped>\n",
              "    .dataframe tbody tr th:only-of-type {\n",
              "        vertical-align: middle;\n",
              "    }\n",
              "\n",
              "    .dataframe tbody tr th {\n",
              "        vertical-align: top;\n",
              "    }\n",
              "\n",
              "    .dataframe thead th {\n",
              "        text-align: right;\n",
              "    }\n",
              "</style>\n",
              "<table border=\"1\" class=\"dataframe\">\n",
              "  <thead>\n",
              "    <tr style=\"text-align: right;\">\n",
              "      <th></th>\n",
              "      <th>User ID</th>\n",
              "      <th>Gender</th>\n",
              "      <th>Age</th>\n",
              "      <th>EstimatedSalary</th>\n",
              "      <th>Purchased</th>\n",
              "    </tr>\n",
              "  </thead>\n",
              "  <tbody>\n",
              "    <tr>\n",
              "      <th>0</th>\n",
              "      <td>15624510</td>\n",
              "      <td>Male</td>\n",
              "      <td>19</td>\n",
              "      <td>19000</td>\n",
              "      <td>0</td>\n",
              "    </tr>\n",
              "    <tr>\n",
              "      <th>1</th>\n",
              "      <td>15810944</td>\n",
              "      <td>Male</td>\n",
              "      <td>35</td>\n",
              "      <td>20000</td>\n",
              "      <td>0</td>\n",
              "    </tr>\n",
              "    <tr>\n",
              "      <th>2</th>\n",
              "      <td>15668575</td>\n",
              "      <td>Female</td>\n",
              "      <td>26</td>\n",
              "      <td>43000</td>\n",
              "      <td>0</td>\n",
              "    </tr>\n",
              "    <tr>\n",
              "      <th>3</th>\n",
              "      <td>15603246</td>\n",
              "      <td>Female</td>\n",
              "      <td>27</td>\n",
              "      <td>57000</td>\n",
              "      <td>0</td>\n",
              "    </tr>\n",
              "    <tr>\n",
              "      <th>4</th>\n",
              "      <td>15804002</td>\n",
              "      <td>Male</td>\n",
              "      <td>19</td>\n",
              "      <td>76000</td>\n",
              "      <td>0</td>\n",
              "    </tr>\n",
              "    <tr>\n",
              "      <th>...</th>\n",
              "      <td>...</td>\n",
              "      <td>...</td>\n",
              "      <td>...</td>\n",
              "      <td>...</td>\n",
              "      <td>...</td>\n",
              "    </tr>\n",
              "    <tr>\n",
              "      <th>395</th>\n",
              "      <td>15691863</td>\n",
              "      <td>Female</td>\n",
              "      <td>46</td>\n",
              "      <td>41000</td>\n",
              "      <td>1</td>\n",
              "    </tr>\n",
              "    <tr>\n",
              "      <th>396</th>\n",
              "      <td>15706071</td>\n",
              "      <td>Male</td>\n",
              "      <td>51</td>\n",
              "      <td>23000</td>\n",
              "      <td>1</td>\n",
              "    </tr>\n",
              "    <tr>\n",
              "      <th>397</th>\n",
              "      <td>15654296</td>\n",
              "      <td>Female</td>\n",
              "      <td>50</td>\n",
              "      <td>20000</td>\n",
              "      <td>1</td>\n",
              "    </tr>\n",
              "    <tr>\n",
              "      <th>398</th>\n",
              "      <td>15755018</td>\n",
              "      <td>Male</td>\n",
              "      <td>36</td>\n",
              "      <td>33000</td>\n",
              "      <td>0</td>\n",
              "    </tr>\n",
              "    <tr>\n",
              "      <th>399</th>\n",
              "      <td>15594041</td>\n",
              "      <td>Female</td>\n",
              "      <td>49</td>\n",
              "      <td>36000</td>\n",
              "      <td>1</td>\n",
              "    </tr>\n",
              "  </tbody>\n",
              "</table>\n",
              "<p>400 rows × 5 columns</p>\n",
              "</div>\n",
              "      <button class=\"colab-df-convert\" onclick=\"convertToInteractive('df-481e0036-70de-4d34-9687-376fdb43914d')\"\n",
              "              title=\"Convert this dataframe to an interactive table.\"\n",
              "              style=\"display:none;\">\n",
              "        \n",
              "  <svg xmlns=\"http://www.w3.org/2000/svg\" height=\"24px\"viewBox=\"0 0 24 24\"\n",
              "       width=\"24px\">\n",
              "    <path d=\"M0 0h24v24H0V0z\" fill=\"none\"/>\n",
              "    <path d=\"M18.56 5.44l.94 2.06.94-2.06 2.06-.94-2.06-.94-.94-2.06-.94 2.06-2.06.94zm-11 1L8.5 8.5l.94-2.06 2.06-.94-2.06-.94L8.5 2.5l-.94 2.06-2.06.94zm10 10l.94 2.06.94-2.06 2.06-.94-2.06-.94-.94-2.06-.94 2.06-2.06.94z\"/><path d=\"M17.41 7.96l-1.37-1.37c-.4-.4-.92-.59-1.43-.59-.52 0-1.04.2-1.43.59L10.3 9.45l-7.72 7.72c-.78.78-.78 2.05 0 2.83L4 21.41c.39.39.9.59 1.41.59.51 0 1.02-.2 1.41-.59l7.78-7.78 2.81-2.81c.8-.78.8-2.07 0-2.86zM5.41 20L4 18.59l7.72-7.72 1.47 1.35L5.41 20z\"/>\n",
              "  </svg>\n",
              "      </button>\n",
              "      \n",
              "  <style>\n",
              "    .colab-df-container {\n",
              "      display:flex;\n",
              "      flex-wrap:wrap;\n",
              "      gap: 12px;\n",
              "    }\n",
              "\n",
              "    .colab-df-convert {\n",
              "      background-color: #E8F0FE;\n",
              "      border: none;\n",
              "      border-radius: 50%;\n",
              "      cursor: pointer;\n",
              "      display: none;\n",
              "      fill: #1967D2;\n",
              "      height: 32px;\n",
              "      padding: 0 0 0 0;\n",
              "      width: 32px;\n",
              "    }\n",
              "\n",
              "    .colab-df-convert:hover {\n",
              "      background-color: #E2EBFA;\n",
              "      box-shadow: 0px 1px 2px rgba(60, 64, 67, 0.3), 0px 1px 3px 1px rgba(60, 64, 67, 0.15);\n",
              "      fill: #174EA6;\n",
              "    }\n",
              "\n",
              "    [theme=dark] .colab-df-convert {\n",
              "      background-color: #3B4455;\n",
              "      fill: #D2E3FC;\n",
              "    }\n",
              "\n",
              "    [theme=dark] .colab-df-convert:hover {\n",
              "      background-color: #434B5C;\n",
              "      box-shadow: 0px 1px 3px 1px rgba(0, 0, 0, 0.15);\n",
              "      filter: drop-shadow(0px 1px 2px rgba(0, 0, 0, 0.3));\n",
              "      fill: #FFFFFF;\n",
              "    }\n",
              "  </style>\n",
              "\n",
              "      <script>\n",
              "        const buttonEl =\n",
              "          document.querySelector('#df-481e0036-70de-4d34-9687-376fdb43914d button.colab-df-convert');\n",
              "        buttonEl.style.display =\n",
              "          google.colab.kernel.accessAllowed ? 'block' : 'none';\n",
              "\n",
              "        async function convertToInteractive(key) {\n",
              "          const element = document.querySelector('#df-481e0036-70de-4d34-9687-376fdb43914d');\n",
              "          const dataTable =\n",
              "            await google.colab.kernel.invokeFunction('convertToInteractive',\n",
              "                                                     [key], {});\n",
              "          if (!dataTable) return;\n",
              "\n",
              "          const docLinkHtml = 'Like what you see? Visit the ' +\n",
              "            '<a target=\"_blank\" href=https://colab.research.google.com/notebooks/data_table.ipynb>data table notebook</a>'\n",
              "            + ' to learn more about interactive tables.';\n",
              "          element.innerHTML = '';\n",
              "          dataTable['output_type'] = 'display_data';\n",
              "          await google.colab.output.renderOutput(dataTable, element);\n",
              "          const docLink = document.createElement('div');\n",
              "          docLink.innerHTML = docLinkHtml;\n",
              "          element.appendChild(docLink);\n",
              "        }\n",
              "      </script>\n",
              "    </div>\n",
              "  </div>\n",
              "  "
            ]
          },
          "metadata": {},
          "execution_count": 4
        }
      ]
    },
    {
      "cell_type": "code",
      "source": [
        "df_new = df.drop(['User ID',\t'Gender'], axis=1)"
      ],
      "metadata": {
        "id": "wLGUNwxKhe33"
      },
      "execution_count": 5,
      "outputs": []
    },
    {
      "cell_type": "code",
      "source": [
        "df_new"
      ],
      "metadata": {
        "colab": {
          "base_uri": "https://localhost:8080/",
          "height": 424
        },
        "id": "GI1OzSUBhfqO",
        "outputId": "d9af0599-51ed-4b16-d652-8965818b2801"
      },
      "execution_count": 6,
      "outputs": [
        {
          "output_type": "execute_result",
          "data": {
            "text/plain": [
              "     Age  EstimatedSalary  Purchased\n",
              "0     19            19000          0\n",
              "1     35            20000          0\n",
              "2     26            43000          0\n",
              "3     27            57000          0\n",
              "4     19            76000          0\n",
              "..   ...              ...        ...\n",
              "395   46            41000          1\n",
              "396   51            23000          1\n",
              "397   50            20000          1\n",
              "398   36            33000          0\n",
              "399   49            36000          1\n",
              "\n",
              "[400 rows x 3 columns]"
            ],
            "text/html": [
              "\n",
              "  <div id=\"df-ab0dfaee-b553-4280-8885-712e74885a81\">\n",
              "    <div class=\"colab-df-container\">\n",
              "      <div>\n",
              "<style scoped>\n",
              "    .dataframe tbody tr th:only-of-type {\n",
              "        vertical-align: middle;\n",
              "    }\n",
              "\n",
              "    .dataframe tbody tr th {\n",
              "        vertical-align: top;\n",
              "    }\n",
              "\n",
              "    .dataframe thead th {\n",
              "        text-align: right;\n",
              "    }\n",
              "</style>\n",
              "<table border=\"1\" class=\"dataframe\">\n",
              "  <thead>\n",
              "    <tr style=\"text-align: right;\">\n",
              "      <th></th>\n",
              "      <th>Age</th>\n",
              "      <th>EstimatedSalary</th>\n",
              "      <th>Purchased</th>\n",
              "    </tr>\n",
              "  </thead>\n",
              "  <tbody>\n",
              "    <tr>\n",
              "      <th>0</th>\n",
              "      <td>19</td>\n",
              "      <td>19000</td>\n",
              "      <td>0</td>\n",
              "    </tr>\n",
              "    <tr>\n",
              "      <th>1</th>\n",
              "      <td>35</td>\n",
              "      <td>20000</td>\n",
              "      <td>0</td>\n",
              "    </tr>\n",
              "    <tr>\n",
              "      <th>2</th>\n",
              "      <td>26</td>\n",
              "      <td>43000</td>\n",
              "      <td>0</td>\n",
              "    </tr>\n",
              "    <tr>\n",
              "      <th>3</th>\n",
              "      <td>27</td>\n",
              "      <td>57000</td>\n",
              "      <td>0</td>\n",
              "    </tr>\n",
              "    <tr>\n",
              "      <th>4</th>\n",
              "      <td>19</td>\n",
              "      <td>76000</td>\n",
              "      <td>0</td>\n",
              "    </tr>\n",
              "    <tr>\n",
              "      <th>...</th>\n",
              "      <td>...</td>\n",
              "      <td>...</td>\n",
              "      <td>...</td>\n",
              "    </tr>\n",
              "    <tr>\n",
              "      <th>395</th>\n",
              "      <td>46</td>\n",
              "      <td>41000</td>\n",
              "      <td>1</td>\n",
              "    </tr>\n",
              "    <tr>\n",
              "      <th>396</th>\n",
              "      <td>51</td>\n",
              "      <td>23000</td>\n",
              "      <td>1</td>\n",
              "    </tr>\n",
              "    <tr>\n",
              "      <th>397</th>\n",
              "      <td>50</td>\n",
              "      <td>20000</td>\n",
              "      <td>1</td>\n",
              "    </tr>\n",
              "    <tr>\n",
              "      <th>398</th>\n",
              "      <td>36</td>\n",
              "      <td>33000</td>\n",
              "      <td>0</td>\n",
              "    </tr>\n",
              "    <tr>\n",
              "      <th>399</th>\n",
              "      <td>49</td>\n",
              "      <td>36000</td>\n",
              "      <td>1</td>\n",
              "    </tr>\n",
              "  </tbody>\n",
              "</table>\n",
              "<p>400 rows × 3 columns</p>\n",
              "</div>\n",
              "      <button class=\"colab-df-convert\" onclick=\"convertToInteractive('df-ab0dfaee-b553-4280-8885-712e74885a81')\"\n",
              "              title=\"Convert this dataframe to an interactive table.\"\n",
              "              style=\"display:none;\">\n",
              "        \n",
              "  <svg xmlns=\"http://www.w3.org/2000/svg\" height=\"24px\"viewBox=\"0 0 24 24\"\n",
              "       width=\"24px\">\n",
              "    <path d=\"M0 0h24v24H0V0z\" fill=\"none\"/>\n",
              "    <path d=\"M18.56 5.44l.94 2.06.94-2.06 2.06-.94-2.06-.94-.94-2.06-.94 2.06-2.06.94zm-11 1L8.5 8.5l.94-2.06 2.06-.94-2.06-.94L8.5 2.5l-.94 2.06-2.06.94zm10 10l.94 2.06.94-2.06 2.06-.94-2.06-.94-.94-2.06-.94 2.06-2.06.94z\"/><path d=\"M17.41 7.96l-1.37-1.37c-.4-.4-.92-.59-1.43-.59-.52 0-1.04.2-1.43.59L10.3 9.45l-7.72 7.72c-.78.78-.78 2.05 0 2.83L4 21.41c.39.39.9.59 1.41.59.51 0 1.02-.2 1.41-.59l7.78-7.78 2.81-2.81c.8-.78.8-2.07 0-2.86zM5.41 20L4 18.59l7.72-7.72 1.47 1.35L5.41 20z\"/>\n",
              "  </svg>\n",
              "      </button>\n",
              "      \n",
              "  <style>\n",
              "    .colab-df-container {\n",
              "      display:flex;\n",
              "      flex-wrap:wrap;\n",
              "      gap: 12px;\n",
              "    }\n",
              "\n",
              "    .colab-df-convert {\n",
              "      background-color: #E8F0FE;\n",
              "      border: none;\n",
              "      border-radius: 50%;\n",
              "      cursor: pointer;\n",
              "      display: none;\n",
              "      fill: #1967D2;\n",
              "      height: 32px;\n",
              "      padding: 0 0 0 0;\n",
              "      width: 32px;\n",
              "    }\n",
              "\n",
              "    .colab-df-convert:hover {\n",
              "      background-color: #E2EBFA;\n",
              "      box-shadow: 0px 1px 2px rgba(60, 64, 67, 0.3), 0px 1px 3px 1px rgba(60, 64, 67, 0.15);\n",
              "      fill: #174EA6;\n",
              "    }\n",
              "\n",
              "    [theme=dark] .colab-df-convert {\n",
              "      background-color: #3B4455;\n",
              "      fill: #D2E3FC;\n",
              "    }\n",
              "\n",
              "    [theme=dark] .colab-df-convert:hover {\n",
              "      background-color: #434B5C;\n",
              "      box-shadow: 0px 1px 3px 1px rgba(0, 0, 0, 0.15);\n",
              "      filter: drop-shadow(0px 1px 2px rgba(0, 0, 0, 0.3));\n",
              "      fill: #FFFFFF;\n",
              "    }\n",
              "  </style>\n",
              "\n",
              "      <script>\n",
              "        const buttonEl =\n",
              "          document.querySelector('#df-ab0dfaee-b553-4280-8885-712e74885a81 button.colab-df-convert');\n",
              "        buttonEl.style.display =\n",
              "          google.colab.kernel.accessAllowed ? 'block' : 'none';\n",
              "\n",
              "        async function convertToInteractive(key) {\n",
              "          const element = document.querySelector('#df-ab0dfaee-b553-4280-8885-712e74885a81');\n",
              "          const dataTable =\n",
              "            await google.colab.kernel.invokeFunction('convertToInteractive',\n",
              "                                                     [key], {});\n",
              "          if (!dataTable) return;\n",
              "\n",
              "          const docLinkHtml = 'Like what you see? Visit the ' +\n",
              "            '<a target=\"_blank\" href=https://colab.research.google.com/notebooks/data_table.ipynb>data table notebook</a>'\n",
              "            + ' to learn more about interactive tables.';\n",
              "          element.innerHTML = '';\n",
              "          dataTable['output_type'] = 'display_data';\n",
              "          await google.colab.output.renderOutput(dataTable, element);\n",
              "          const docLink = document.createElement('div');\n",
              "          docLink.innerHTML = docLinkHtml;\n",
              "          element.appendChild(docLink);\n",
              "        }\n",
              "      </script>\n",
              "    </div>\n",
              "  </div>\n",
              "  "
            ]
          },
          "metadata": {},
          "execution_count": 6
        }
      ]
    },
    {
      "cell_type": "code",
      "source": [
        "X = df_new.drop('Purchased', axis = 1)\n",
        "y = df_new['Purchased']"
      ],
      "metadata": {
        "id": "lpkkyd7mjyhx"
      },
      "execution_count": 8,
      "outputs": []
    },
    {
      "cell_type": "code",
      "source": [
        "y"
      ],
      "metadata": {
        "colab": {
          "base_uri": "https://localhost:8080/"
        },
        "id": "jtJXcnOikAnt",
        "outputId": "75e22393-9189-4262-cf08-e2d914d3df65"
      },
      "execution_count": 11,
      "outputs": [
        {
          "output_type": "execute_result",
          "data": {
            "text/plain": [
              "0      0\n",
              "1      0\n",
              "2      0\n",
              "3      0\n",
              "4      0\n",
              "      ..\n",
              "395    1\n",
              "396    1\n",
              "397    1\n",
              "398    0\n",
              "399    1\n",
              "Name: Purchased, Length: 400, dtype: int64"
            ]
          },
          "metadata": {},
          "execution_count": 11
        }
      ]
    },
    {
      "cell_type": "code",
      "source": [
        "from sklearn.model_selection import train_test_split\n",
        "X_train, X_test, y_train, y_test = train_test_split(X, y, test_size = .2, random_state = 0, stratify = y)"
      ],
      "metadata": {
        "id": "HV3trNAPkFPu"
      },
      "execution_count": 27,
      "outputs": []
    },
    {
      "cell_type": "code",
      "source": [
        "X_test"
      ],
      "metadata": {
        "colab": {
          "base_uri": "https://localhost:8080/",
          "height": 424
        },
        "id": "ck6DDZMqtQiD",
        "outputId": "4569468a-1887-40d7-fc55-efe42bdc82a9"
      },
      "execution_count": 40,
      "outputs": [
        {
          "output_type": "execute_result",
          "data": {
            "text/plain": [
              "     Age  EstimatedSalary\n",
              "361   53            34000\n",
              "245   51           146000\n",
              "313   49           141000\n",
              "294   35            57000\n",
              "376   46            74000\n",
              "..   ...              ...\n",
              "39    27            31000\n",
              "164   33            69000\n",
              "98    35            73000\n",
              "101   28            59000\n",
              "364   42           104000\n",
              "\n",
              "[80 rows x 2 columns]"
            ],
            "text/html": [
              "\n",
              "  <div id=\"df-fc611d22-9129-495a-8e2c-1f27562eed99\">\n",
              "    <div class=\"colab-df-container\">\n",
              "      <div>\n",
              "<style scoped>\n",
              "    .dataframe tbody tr th:only-of-type {\n",
              "        vertical-align: middle;\n",
              "    }\n",
              "\n",
              "    .dataframe tbody tr th {\n",
              "        vertical-align: top;\n",
              "    }\n",
              "\n",
              "    .dataframe thead th {\n",
              "        text-align: right;\n",
              "    }\n",
              "</style>\n",
              "<table border=\"1\" class=\"dataframe\">\n",
              "  <thead>\n",
              "    <tr style=\"text-align: right;\">\n",
              "      <th></th>\n",
              "      <th>Age</th>\n",
              "      <th>EstimatedSalary</th>\n",
              "    </tr>\n",
              "  </thead>\n",
              "  <tbody>\n",
              "    <tr>\n",
              "      <th>361</th>\n",
              "      <td>53</td>\n",
              "      <td>34000</td>\n",
              "    </tr>\n",
              "    <tr>\n",
              "      <th>245</th>\n",
              "      <td>51</td>\n",
              "      <td>146000</td>\n",
              "    </tr>\n",
              "    <tr>\n",
              "      <th>313</th>\n",
              "      <td>49</td>\n",
              "      <td>141000</td>\n",
              "    </tr>\n",
              "    <tr>\n",
              "      <th>294</th>\n",
              "      <td>35</td>\n",
              "      <td>57000</td>\n",
              "    </tr>\n",
              "    <tr>\n",
              "      <th>376</th>\n",
              "      <td>46</td>\n",
              "      <td>74000</td>\n",
              "    </tr>\n",
              "    <tr>\n",
              "      <th>...</th>\n",
              "      <td>...</td>\n",
              "      <td>...</td>\n",
              "    </tr>\n",
              "    <tr>\n",
              "      <th>39</th>\n",
              "      <td>27</td>\n",
              "      <td>31000</td>\n",
              "    </tr>\n",
              "    <tr>\n",
              "      <th>164</th>\n",
              "      <td>33</td>\n",
              "      <td>69000</td>\n",
              "    </tr>\n",
              "    <tr>\n",
              "      <th>98</th>\n",
              "      <td>35</td>\n",
              "      <td>73000</td>\n",
              "    </tr>\n",
              "    <tr>\n",
              "      <th>101</th>\n",
              "      <td>28</td>\n",
              "      <td>59000</td>\n",
              "    </tr>\n",
              "    <tr>\n",
              "      <th>364</th>\n",
              "      <td>42</td>\n",
              "      <td>104000</td>\n",
              "    </tr>\n",
              "  </tbody>\n",
              "</table>\n",
              "<p>80 rows × 2 columns</p>\n",
              "</div>\n",
              "      <button class=\"colab-df-convert\" onclick=\"convertToInteractive('df-fc611d22-9129-495a-8e2c-1f27562eed99')\"\n",
              "              title=\"Convert this dataframe to an interactive table.\"\n",
              "              style=\"display:none;\">\n",
              "        \n",
              "  <svg xmlns=\"http://www.w3.org/2000/svg\" height=\"24px\"viewBox=\"0 0 24 24\"\n",
              "       width=\"24px\">\n",
              "    <path d=\"M0 0h24v24H0V0z\" fill=\"none\"/>\n",
              "    <path d=\"M18.56 5.44l.94 2.06.94-2.06 2.06-.94-2.06-.94-.94-2.06-.94 2.06-2.06.94zm-11 1L8.5 8.5l.94-2.06 2.06-.94-2.06-.94L8.5 2.5l-.94 2.06-2.06.94zm10 10l.94 2.06.94-2.06 2.06-.94-2.06-.94-.94-2.06-.94 2.06-2.06.94z\"/><path d=\"M17.41 7.96l-1.37-1.37c-.4-.4-.92-.59-1.43-.59-.52 0-1.04.2-1.43.59L10.3 9.45l-7.72 7.72c-.78.78-.78 2.05 0 2.83L4 21.41c.39.39.9.59 1.41.59.51 0 1.02-.2 1.41-.59l7.78-7.78 2.81-2.81c.8-.78.8-2.07 0-2.86zM5.41 20L4 18.59l7.72-7.72 1.47 1.35L5.41 20z\"/>\n",
              "  </svg>\n",
              "      </button>\n",
              "      \n",
              "  <style>\n",
              "    .colab-df-container {\n",
              "      display:flex;\n",
              "      flex-wrap:wrap;\n",
              "      gap: 12px;\n",
              "    }\n",
              "\n",
              "    .colab-df-convert {\n",
              "      background-color: #E8F0FE;\n",
              "      border: none;\n",
              "      border-radius: 50%;\n",
              "      cursor: pointer;\n",
              "      display: none;\n",
              "      fill: #1967D2;\n",
              "      height: 32px;\n",
              "      padding: 0 0 0 0;\n",
              "      width: 32px;\n",
              "    }\n",
              "\n",
              "    .colab-df-convert:hover {\n",
              "      background-color: #E2EBFA;\n",
              "      box-shadow: 0px 1px 2px rgba(60, 64, 67, 0.3), 0px 1px 3px 1px rgba(60, 64, 67, 0.15);\n",
              "      fill: #174EA6;\n",
              "    }\n",
              "\n",
              "    [theme=dark] .colab-df-convert {\n",
              "      background-color: #3B4455;\n",
              "      fill: #D2E3FC;\n",
              "    }\n",
              "\n",
              "    [theme=dark] .colab-df-convert:hover {\n",
              "      background-color: #434B5C;\n",
              "      box-shadow: 0px 1px 3px 1px rgba(0, 0, 0, 0.15);\n",
              "      filter: drop-shadow(0px 1px 2px rgba(0, 0, 0, 0.3));\n",
              "      fill: #FFFFFF;\n",
              "    }\n",
              "  </style>\n",
              "\n",
              "      <script>\n",
              "        const buttonEl =\n",
              "          document.querySelector('#df-fc611d22-9129-495a-8e2c-1f27562eed99 button.colab-df-convert');\n",
              "        buttonEl.style.display =\n",
              "          google.colab.kernel.accessAllowed ? 'block' : 'none';\n",
              "\n",
              "        async function convertToInteractive(key) {\n",
              "          const element = document.querySelector('#df-fc611d22-9129-495a-8e2c-1f27562eed99');\n",
              "          const dataTable =\n",
              "            await google.colab.kernel.invokeFunction('convertToInteractive',\n",
              "                                                     [key], {});\n",
              "          if (!dataTable) return;\n",
              "\n",
              "          const docLinkHtml = 'Like what you see? Visit the ' +\n",
              "            '<a target=\"_blank\" href=https://colab.research.google.com/notebooks/data_table.ipynb>data table notebook</a>'\n",
              "            + ' to learn more about interactive tables.';\n",
              "          element.innerHTML = '';\n",
              "          dataTable['output_type'] = 'display_data';\n",
              "          await google.colab.output.renderOutput(dataTable, element);\n",
              "          const docLink = document.createElement('div');\n",
              "          docLink.innerHTML = docLinkHtml;\n",
              "          element.appendChild(docLink);\n",
              "        }\n",
              "      </script>\n",
              "    </div>\n",
              "  </div>\n",
              "  "
            ]
          },
          "metadata": {},
          "execution_count": 40
        }
      ]
    },
    {
      "cell_type": "code",
      "source": [
        "X_train.shape"
      ],
      "metadata": {
        "colab": {
          "base_uri": "https://localhost:8080/"
        },
        "id": "dTJCo03ztdPf",
        "outputId": "719183aa-0006-44c9-f55f-75d14325405e"
      },
      "execution_count": null,
      "outputs": [
        {
          "output_type": "execute_result",
          "data": {
            "text/plain": [
              "(320, 2)"
            ]
          },
          "metadata": {},
          "execution_count": 17
        }
      ]
    },
    {
      "cell_type": "code",
      "source": [
        "X_train.shape, y_train.shape, X_test.shape, y_test.shape"
      ],
      "metadata": {
        "colab": {
          "base_uri": "https://localhost:8080/"
        },
        "id": "rie75g_9kyMM",
        "outputId": "4b48cb52-0821-4015-c266-d9fc5d150340"
      },
      "execution_count": null,
      "outputs": [
        {
          "output_type": "execute_result",
          "data": {
            "text/plain": [
              "((320, 2), (320,), (80, 2), (80,))"
            ]
          },
          "metadata": {},
          "execution_count": 18
        }
      ]
    },
    {
      "cell_type": "code",
      "source": [
        "a1 = np.random.randint(2, 8, (4, 2))\n",
        "a2 = np.random.randint(0, 2, 4)"
      ],
      "metadata": {
        "id": "hrXssfUNk1NZ"
      },
      "execution_count": 13,
      "outputs": []
    },
    {
      "cell_type": "code",
      "source": [
        "a1"
      ],
      "metadata": {
        "colab": {
          "base_uri": "https://localhost:8080/"
        },
        "id": "QL77wwKJlwfz",
        "outputId": "2e6c1622-100e-47ae-8c52-54423da68b46"
      },
      "execution_count": 14,
      "outputs": [
        {
          "output_type": "execute_result",
          "data": {
            "text/plain": [
              "array([[4, 7],\n",
              "       [3, 7],\n",
              "       [5, 2],\n",
              "       [2, 2]])"
            ]
          },
          "metadata": {},
          "execution_count": 14
        }
      ]
    },
    {
      "cell_type": "code",
      "source": [
        "a2"
      ],
      "metadata": {
        "colab": {
          "base_uri": "https://localhost:8080/"
        },
        "id": "PSk86IHvlyBX",
        "outputId": "5b22cf46-4a95-4684-9c00-333f6f190b07"
      },
      "execution_count": 17,
      "outputs": [
        {
          "output_type": "execute_result",
          "data": {
            "text/plain": [
              "array([0, 0, 0, 1])"
            ]
          },
          "metadata": {},
          "execution_count": 17
        }
      ]
    },
    {
      "cell_type": "code",
      "source": [
        "train_test_split(a1, a2, test_size = .2, random_state = 0) # , random_state = 0"
      ],
      "metadata": {
        "colab": {
          "base_uri": "https://localhost:8080/"
        },
        "id": "y4E988Rtlzbi",
        "outputId": "b0536c1a-49ab-4231-a58c-72d25ad16f19"
      },
      "execution_count": 25,
      "outputs": [
        {
          "output_type": "execute_result",
          "data": {
            "text/plain": [
              "[array([[2, 2],\n",
              "        [3, 7],\n",
              "        [4, 7]]),\n",
              " array([[5, 2]]),\n",
              " array([1, 0, 0]),\n",
              " array([0])]"
            ]
          },
          "metadata": {},
          "execution_count": 25
        }
      ]
    },
    {
      "cell_type": "code",
      "source": [
        "train_test_split(a1, a2, test_size = .2, random_state = 0) # , random_state = 0"
      ],
      "metadata": {
        "colab": {
          "base_uri": "https://localhost:8080/"
        },
        "id": "O7M7vnE4l9ZN",
        "outputId": "54e19a1a-a8b1-4195-8627-d474181230df"
      },
      "execution_count": 26,
      "outputs": [
        {
          "output_type": "execute_result",
          "data": {
            "text/plain": [
              "[array([[2, 2],\n",
              "        [3, 7],\n",
              "        [4, 7]]),\n",
              " array([[5, 2]]),\n",
              " array([1, 0, 0]),\n",
              " array([0])]"
            ]
          },
          "metadata": {},
          "execution_count": 26
        }
      ]
    },
    {
      "cell_type": "code",
      "source": [
        "train_test_split(a1, a2, test_size = .2, random_state = 0)"
      ],
      "metadata": {
        "colab": {
          "base_uri": "https://localhost:8080/"
        },
        "id": "cUcIhgUimEXE",
        "outputId": "62913ca8-f6fe-448a-c1c9-59973371f2af"
      },
      "execution_count": null,
      "outputs": [
        {
          "output_type": "execute_result",
          "data": {
            "text/plain": [
              "[array([[4, 4],\n",
              "        [6, 2],\n",
              "        [5, 2]]),\n",
              " array([[7, 6]]),\n",
              " array([1, 0, 1]),\n",
              " array([1])]"
            ]
          },
          "metadata": {},
          "execution_count": 24
        }
      ]
    },
    {
      "cell_type": "code",
      "source": [
        "train_test_split(a1, a2, test_size = .2, random_state = 0)"
      ],
      "metadata": {
        "colab": {
          "base_uri": "https://localhost:8080/"
        },
        "id": "pAI7n_mnmQiX",
        "outputId": "fa5d6a75-768d-49a9-d3b2-c1f807975091"
      },
      "execution_count": null,
      "outputs": [
        {
          "output_type": "execute_result",
          "data": {
            "text/plain": [
              "[array([[4, 4],\n",
              "        [6, 2],\n",
              "        [5, 2]]),\n",
              " array([[7, 6]]),\n",
              " array([1, 0, 1]),\n",
              " array([1])]"
            ]
          },
          "metadata": {},
          "execution_count": 25
        }
      ]
    },
    {
      "cell_type": "code",
      "source": [
        "from sklearn.neighbors import KNeighborsClassifier\n",
        "model = KNeighborsClassifier()"
      ],
      "metadata": {
        "id": "--uRBsuumSZC"
      },
      "execution_count": 34,
      "outputs": []
    },
    {
      "cell_type": "code",
      "source": [
        "type(model)"
      ],
      "metadata": {
        "colab": {
          "base_uri": "https://localhost:8080/"
        },
        "id": "5TZCoV5F5iL_",
        "outputId": "e2016a14-78c8-4f40-819a-3f74b21b4334"
      },
      "execution_count": 35,
      "outputs": [
        {
          "output_type": "execute_result",
          "data": {
            "text/plain": [
              "sklearn.neighbors._classification.KNeighborsClassifier"
            ]
          },
          "metadata": {},
          "execution_count": 35
        }
      ]
    },
    {
      "cell_type": "code",
      "source": [],
      "metadata": {
        "id": "GiBFpNtgvOoK"
      },
      "execution_count": 45,
      "outputs": []
    },
    {
      "cell_type": "code",
      "source": [
        "model.fit(X_train, y_train)"
      ],
      "metadata": {
        "colab": {
          "base_uri": "https://localhost:8080/",
          "height": 75
        },
        "id": "d67rAoYpnMWh",
        "outputId": "ef489a52-6cc1-48d2-d2b2-86e0b715eb08"
      },
      "execution_count": 46,
      "outputs": [
        {
          "output_type": "execute_result",
          "data": {
            "text/plain": [
              "KNeighborsClassifier()"
            ],
            "text/html": [
              "<style>#sk-container-id-3 {color: black;background-color: white;}#sk-container-id-3 pre{padding: 0;}#sk-container-id-3 div.sk-toggleable {background-color: white;}#sk-container-id-3 label.sk-toggleable__label {cursor: pointer;display: block;width: 100%;margin-bottom: 0;padding: 0.3em;box-sizing: border-box;text-align: center;}#sk-container-id-3 label.sk-toggleable__label-arrow:before {content: \"▸\";float: left;margin-right: 0.25em;color: #696969;}#sk-container-id-3 label.sk-toggleable__label-arrow:hover:before {color: black;}#sk-container-id-3 div.sk-estimator:hover label.sk-toggleable__label-arrow:before {color: black;}#sk-container-id-3 div.sk-toggleable__content {max-height: 0;max-width: 0;overflow: hidden;text-align: left;background-color: #f0f8ff;}#sk-container-id-3 div.sk-toggleable__content pre {margin: 0.2em;color: black;border-radius: 0.25em;background-color: #f0f8ff;}#sk-container-id-3 input.sk-toggleable__control:checked~div.sk-toggleable__content {max-height: 200px;max-width: 100%;overflow: auto;}#sk-container-id-3 input.sk-toggleable__control:checked~label.sk-toggleable__label-arrow:before {content: \"▾\";}#sk-container-id-3 div.sk-estimator input.sk-toggleable__control:checked~label.sk-toggleable__label {background-color: #d4ebff;}#sk-container-id-3 div.sk-label input.sk-toggleable__control:checked~label.sk-toggleable__label {background-color: #d4ebff;}#sk-container-id-3 input.sk-hidden--visually {border: 0;clip: rect(1px 1px 1px 1px);clip: rect(1px, 1px, 1px, 1px);height: 1px;margin: -1px;overflow: hidden;padding: 0;position: absolute;width: 1px;}#sk-container-id-3 div.sk-estimator {font-family: monospace;background-color: #f0f8ff;border: 1px dotted black;border-radius: 0.25em;box-sizing: border-box;margin-bottom: 0.5em;}#sk-container-id-3 div.sk-estimator:hover {background-color: #d4ebff;}#sk-container-id-3 div.sk-parallel-item::after {content: \"\";width: 100%;border-bottom: 1px solid gray;flex-grow: 1;}#sk-container-id-3 div.sk-label:hover label.sk-toggleable__label {background-color: #d4ebff;}#sk-container-id-3 div.sk-serial::before {content: \"\";position: absolute;border-left: 1px solid gray;box-sizing: border-box;top: 0;bottom: 0;left: 50%;z-index: 0;}#sk-container-id-3 div.sk-serial {display: flex;flex-direction: column;align-items: center;background-color: white;padding-right: 0.2em;padding-left: 0.2em;position: relative;}#sk-container-id-3 div.sk-item {position: relative;z-index: 1;}#sk-container-id-3 div.sk-parallel {display: flex;align-items: stretch;justify-content: center;background-color: white;position: relative;}#sk-container-id-3 div.sk-item::before, #sk-container-id-3 div.sk-parallel-item::before {content: \"\";position: absolute;border-left: 1px solid gray;box-sizing: border-box;top: 0;bottom: 0;left: 50%;z-index: -1;}#sk-container-id-3 div.sk-parallel-item {display: flex;flex-direction: column;z-index: 1;position: relative;background-color: white;}#sk-container-id-3 div.sk-parallel-item:first-child::after {align-self: flex-end;width: 50%;}#sk-container-id-3 div.sk-parallel-item:last-child::after {align-self: flex-start;width: 50%;}#sk-container-id-3 div.sk-parallel-item:only-child::after {width: 0;}#sk-container-id-3 div.sk-dashed-wrapped {border: 1px dashed gray;margin: 0 0.4em 0.5em 0.4em;box-sizing: border-box;padding-bottom: 0.4em;background-color: white;}#sk-container-id-3 div.sk-label label {font-family: monospace;font-weight: bold;display: inline-block;line-height: 1.2em;}#sk-container-id-3 div.sk-label-container {text-align: center;}#sk-container-id-3 div.sk-container {/* jupyter's `normalize.less` sets `[hidden] { display: none; }` but bootstrap.min.css set `[hidden] { display: none !important; }` so we also need the `!important` here to be able to override the default hidden behavior on the sphinx rendered scikit-learn.org. See: https://github.com/scikit-learn/scikit-learn/issues/21755 */display: inline-block !important;position: relative;}#sk-container-id-3 div.sk-text-repr-fallback {display: none;}</style><div id=\"sk-container-id-3\" class=\"sk-top-container\"><div class=\"sk-text-repr-fallback\"><pre>KNeighborsClassifier()</pre><b>In a Jupyter environment, please rerun this cell to show the HTML representation or trust the notebook. <br />On GitHub, the HTML representation is unable to render, please try loading this page with nbviewer.org.</b></div><div class=\"sk-container\" hidden><div class=\"sk-item\"><div class=\"sk-estimator sk-toggleable\"><input class=\"sk-toggleable__control sk-hidden--visually\" id=\"sk-estimator-id-3\" type=\"checkbox\" checked><label for=\"sk-estimator-id-3\" class=\"sk-toggleable__label sk-toggleable__label-arrow\">KNeighborsClassifier</label><div class=\"sk-toggleable__content\"><pre>KNeighborsClassifier()</pre></div></div></div></div></div>"
            ]
          },
          "metadata": {},
          "execution_count": 46
        }
      ]
    },
    {
      "cell_type": "code",
      "source": [
        "model.score(X_test, y_test)"
      ],
      "metadata": {
        "colab": {
          "base_uri": "https://localhost:8080/"
        },
        "id": "uL-bQC14miKh",
        "outputId": "a368b4a3-ebdf-4360-f757-0cefb562159f"
      },
      "execution_count": 47,
      "outputs": [
        {
          "output_type": "execute_result",
          "data": {
            "text/plain": [
              "0.825"
            ]
          },
          "metadata": {},
          "execution_count": 47
        }
      ]
    },
    {
      "cell_type": "code",
      "source": [
        "y_pred = model.predict(X_test)"
      ],
      "metadata": {
        "id": "PcUfLxpzmkcG"
      },
      "execution_count": 41,
      "outputs": []
    },
    {
      "cell_type": "code",
      "source": [
        "aa1 = pd.DataFrame({\"Pridicted\":y_pred,\"Testing\":y_test})"
      ],
      "metadata": {
        "id": "Xh63Xz_1oEG-"
      },
      "execution_count": 60,
      "outputs": []
    },
    {
      "cell_type": "code",
      "source": [
        "print(aa1.to_string())"
      ],
      "metadata": {
        "colab": {
          "base_uri": "https://localhost:8080/"
        },
        "id": "-adSubqJ9Y2O",
        "outputId": "ef3ac77e-55e9-4b17-8480-dcb65ddc3bfe"
      },
      "execution_count": 62,
      "outputs": [
        {
          "output_type": "stream",
          "name": "stdout",
          "text": [
            "     Pridicted  Testing\n",
            "361          1        1\n",
            "245          1        1\n",
            "313          1        1\n",
            "294          0        0\n",
            "376          0        0\n",
            "97           1        1\n",
            "278          0        1\n",
            "119          0        0\n",
            "343          0        1\n",
            "46           0        0\n",
            "201          0        0\n",
            "223          1        1\n",
            "200          0        0\n",
            "368          0        0\n",
            "84           0        0\n",
            "35           0        0\n",
            "269          0        0\n",
            "360          1        1\n",
            "191          0        0\n",
            "10           0        0\n",
            "7            1        1\n",
            "193          0        0\n",
            "349          0        0\n",
            "173          0        0\n",
            "95           0        0\n",
            "172          1        0\n",
            "318          0        1\n",
            "108          0        0\n",
            "62           0        0\n",
            "358          0        1\n",
            "107          0        0\n",
            "218          1        0\n",
            "246          0        0\n",
            "74           0        0\n",
            "237          0        0\n",
            "208          1        1\n",
            "210          1        1\n",
            "241          0        0\n",
            "345          0        0\n",
            "88           0        0\n",
            "369          1        1\n",
            "138          0        0\n",
            "281          0        0\n",
            "351          0        0\n",
            "326          0        0\n",
            "380          0        0\n",
            "100          1        0\n",
            "135          0        0\n",
            "90           0        0\n",
            "386          1        1\n",
            "236          0        0\n",
            "182          0        1\n",
            "388          1        1\n",
            "397          0        1\n",
            "383          0        1\n",
            "123          0        0\n",
            "85           1        1\n",
            "321          0        1\n",
            "379          1        1\n",
            "43           0        0\n",
            "395          0        1\n",
            "205          0        0\n",
            "54           0        0\n",
            "221          1        1\n",
            "338          0        0\n",
            "303          0        1\n",
            "198          0        0\n",
            "299          0        1\n",
            "222          1        1\n",
            "286          0        0\n",
            "348          0        0\n",
            "317          0        0\n",
            "51           0        0\n",
            "166          0        0\n",
            "219          1        1\n",
            "39           0        0\n",
            "164          0        0\n",
            "98           0        0\n",
            "101          0        0\n",
            "364          1        1\n"
          ]
        }
      ]
    },
    {
      "cell_type": "code",
      "source": [
        "from sklearn.metrics import accuracy_score, confusion_matrix, classification_report\n",
        "def get_accuracy_report(y_act, y_pred):\n",
        "  print(accuracy_score(y_act, y_pred))\n",
        "  print(\"=============================\")\n",
        "  print(confusion_matrix(y_act, y_pred))\n",
        "  print(\"=============================\")\n",
        "  print(classification_report(y_act, y_pred))"
      ],
      "metadata": {
        "id": "aLPSlQTooE2_"
      },
      "execution_count": 66,
      "outputs": []
    },
    {
      "cell_type": "code",
      "source": [
        "accuracy_score(y_test,y_pred)"
      ],
      "metadata": {
        "colab": {
          "base_uri": "https://localhost:8080/"
        },
        "id": "ek48fVN58Mrr",
        "outputId": "87fdcd19-15b2-4e5c-feba-eca917ba0fff"
      },
      "execution_count": 51,
      "outputs": [
        {
          "output_type": "execute_result",
          "data": {
            "text/plain": [
              "0.825"
            ]
          },
          "metadata": {},
          "execution_count": 51
        }
      ]
    },
    {
      "cell_type": "code",
      "source": [
        "confusion_matrix(y_test,y_pred)"
      ],
      "metadata": {
        "colab": {
          "base_uri": "https://localhost:8080/"
        },
        "id": "GrswWMfq-8v6",
        "outputId": "74c2b5d7-59cc-41c7-ff18-e3541cbc8524"
      },
      "execution_count": 63,
      "outputs": [
        {
          "output_type": "execute_result",
          "data": {
            "text/plain": [
              "array([[48,  3],\n",
              "       [11, 18]])"
            ]
          },
          "metadata": {},
          "execution_count": 63
        }
      ]
    },
    {
      "cell_type": "code",
      "source": [
        "get_accuracy_report(y_pred,y_test)"
      ],
      "metadata": {
        "colab": {
          "base_uri": "https://localhost:8080/"
        },
        "id": "-UF_WxdJojT7",
        "outputId": "b9ee06d1-df04-4516-b1a4-609e924360cc"
      },
      "execution_count": 68,
      "outputs": [
        {
          "output_type": "stream",
          "name": "stdout",
          "text": [
            "0.825\n",
            "=============================\n",
            "[[48  3]\n",
            " [11 18]]\n",
            "=============================\n",
            "              precision    recall  f1-score   support\n",
            "\n",
            "           0       0.94      0.81      0.87        59\n",
            "           1       0.62      0.86      0.72        21\n",
            "\n",
            "    accuracy                           0.82        80\n",
            "   macro avg       0.78      0.84      0.80        80\n",
            "weighted avg       0.86      0.82      0.83        80\n",
            "\n"
          ]
        }
      ]
    },
    {
      "cell_type": "code",
      "source": [
        "# recall\n",
        "48/(48+11)"
      ],
      "metadata": {
        "colab": {
          "base_uri": "https://localhost:8080/"
        },
        "id": "mEGyA7dnyEuI",
        "outputId": "b82c479f-f015-45b8-d046-9b558a090dd6"
      },
      "execution_count": 69,
      "outputs": [
        {
          "output_type": "execute_result",
          "data": {
            "text/plain": [
              "0.8135593220338984"
            ]
          },
          "metadata": {},
          "execution_count": 69
        }
      ]
    },
    {
      "cell_type": "code",
      "source": [
        "# precision\n",
        "48/(48+3)"
      ],
      "metadata": {
        "colab": {
          "base_uri": "https://localhost:8080/"
        },
        "id": "ZzkioNCdyOUb",
        "outputId": "28a75cc3-7ba4-4bc0-f4f6-1dae85e14af4"
      },
      "execution_count": 70,
      "outputs": [
        {
          "output_type": "execute_result",
          "data": {
            "text/plain": [
              "0.9411764705882353"
            ]
          },
          "metadata": {},
          "execution_count": 70
        }
      ]
    },
    {
      "cell_type": "code",
      "source": [
        "# f1-score\n",
        "2*(0.81 * 0.94 )/ (0.81 + 0.94 )"
      ],
      "metadata": {
        "colab": {
          "base_uri": "https://localhost:8080/"
        },
        "id": "4x1HmzsxomKY",
        "outputId": "e82ad151-60ff-4624-a4b9-cfffba350fb8"
      },
      "execution_count": 71,
      "outputs": [
        {
          "output_type": "execute_result",
          "data": {
            "text/plain": [
              "0.8701714285714285"
            ]
          },
          "metadata": {},
          "execution_count": 71
        }
      ]
    },
    {
      "cell_type": "code",
      "source": [
        "18/21"
      ],
      "metadata": {
        "colab": {
          "base_uri": "https://localhost:8080/"
        },
        "id": "ZaZsM6-yo-bM",
        "outputId": "681319d9-8590-4557-c205-44f8b02a83d2"
      },
      "execution_count": 72,
      "outputs": [
        {
          "output_type": "execute_result",
          "data": {
            "text/plain": [
              "0.8571428571428571"
            ]
          },
          "metadata": {},
          "execution_count": 72
        }
      ]
    },
    {
      "cell_type": "code",
      "source": [
        "model = KNeighborsClassifier(n_neighbors = 3)\n",
        "model.fit(X_train, y_train)\n",
        "model.score(X_test, y_test)"
      ],
      "metadata": {
        "colab": {
          "base_uri": "https://localhost:8080/"
        },
        "id": "5iMNALtfpeL5",
        "outputId": "7ac974ef-840a-4153-86e7-80a845801635"
      },
      "execution_count": 73,
      "outputs": [
        {
          "output_type": "execute_result",
          "data": {
            "text/plain": [
              "0.8"
            ]
          },
          "metadata": {},
          "execution_count": 73
        }
      ]
    },
    {
      "cell_type": "code",
      "source": [
        "model = KNeighborsClassifier(n_neighbors =7)\n",
        "model.fit(X_train, y_train)\n",
        "model.score(X_test, y_test)"
      ],
      "metadata": {
        "colab": {
          "base_uri": "https://localhost:8080/"
        },
        "id": "VGTkp3fTqNdD",
        "outputId": "96ffee3f-72a6-4606-e65c-50d6c47dfaf5"
      },
      "execution_count": 74,
      "outputs": [
        {
          "output_type": "execute_result",
          "data": {
            "text/plain": [
              "0.8125"
            ]
          },
          "metadata": {},
          "execution_count": 74
        }
      ]
    },
    {
      "cell_type": "code",
      "source": [
        "model = KNeighborsClassifier(n_neighbors =7)\n",
        "model.fit(X_train, y_train)\n",
        "model.score(X_test, y_test)"
      ],
      "metadata": {
        "colab": {
          "base_uri": "https://localhost:8080/"
        },
        "id": "Q3IW860CqSZD",
        "outputId": "33ec9254-89f1-4678-fd86-3a7b06fc230d"
      },
      "execution_count": 81,
      "outputs": [
        {
          "output_type": "execute_result",
          "data": {
            "text/plain": [
              "0.8125"
            ]
          },
          "metadata": {},
          "execution_count": 81
        }
      ]
    },
    {
      "cell_type": "code",
      "source": [
        "accuracy_output = []\n",
        "for k in range(1, 80, 2):\n",
        "  model = KNeighborsClassifier(n_neighbors =k)\n",
        "  model.fit(X_train, y_train)\n",
        "  accuracy_output.append(model.score(X_test, y_test))"
      ],
      "metadata": {
        "id": "X1d6AWeAqUlG"
      },
      "execution_count": 82,
      "outputs": []
    },
    {
      "cell_type": "code",
      "source": [
        "max(accuracy_output)"
      ],
      "metadata": {
        "colab": {
          "base_uri": "https://localhost:8080/"
        },
        "id": "u7BnxvtOqpUM",
        "outputId": "dde38cde-3234-435c-f100-b4bcdc50edbe"
      },
      "execution_count": 84,
      "outputs": [
        {
          "output_type": "execute_result",
          "data": {
            "text/plain": [
              "0.8375"
            ]
          },
          "metadata": {},
          "execution_count": 84
        }
      ]
    },
    {
      "cell_type": "code",
      "source": [
        "np.argmax(accuracy_output)"
      ],
      "metadata": {
        "colab": {
          "base_uri": "https://localhost:8080/"
        },
        "id": "ZtYER5OyqrcH",
        "outputId": "439307e3-0a70-41ee-c911-f2e455ab2867"
      },
      "execution_count": 85,
      "outputs": [
        {
          "output_type": "execute_result",
          "data": {
            "text/plain": [
              "4"
            ]
          },
          "metadata": {},
          "execution_count": 85
        }
      ]
    },
    {
      "cell_type": "code",
      "source": [
        "list(range(1, 80, 2))[4]"
      ],
      "metadata": {
        "colab": {
          "base_uri": "https://localhost:8080/"
        },
        "id": "x4h0s8oVqzR8",
        "outputId": "b5aaed72-fd66-4436-f099-77a3de216754"
      },
      "execution_count": 88,
      "outputs": [
        {
          "output_type": "execute_result",
          "data": {
            "text/plain": [
              "9"
            ]
          },
          "metadata": {},
          "execution_count": 88
        }
      ]
    },
    {
      "cell_type": "code",
      "source": [
        "from sklearn.datasets import load_diabetes"
      ],
      "metadata": {
        "id": "xaadeYmSvQ-5"
      },
      "execution_count": 89,
      "outputs": []
    },
    {
      "cell_type": "code",
      "source": [
        "diabetes = load_diabetes()"
      ],
      "metadata": {
        "id": "wS__slkqrJaR"
      },
      "execution_count": 90,
      "outputs": []
    },
    {
      "cell_type": "code",
      "source": [
        "type(diabetes)"
      ],
      "metadata": {
        "colab": {
          "base_uri": "https://localhost:8080/"
        },
        "id": "i8US56cNvWF4",
        "outputId": "ee5640d4-8ad6-483c-f762-4f684dd9abcb"
      },
      "execution_count": 91,
      "outputs": [
        {
          "output_type": "execute_result",
          "data": {
            "text/plain": [
              "sklearn.utils._bunch.Bunch"
            ]
          },
          "metadata": {},
          "execution_count": 91
        }
      ]
    },
    {
      "cell_type": "code",
      "source": [
        "diabetes"
      ],
      "metadata": {
        "colab": {
          "base_uri": "https://localhost:8080/"
        },
        "id": "Zj-hVmaB6lCo",
        "outputId": "a5e34be9-fd05-4a22-b9c6-e3ed6ad46a56"
      },
      "execution_count": 92,
      "outputs": [
        {
          "output_type": "execute_result",
          "data": {
            "text/plain": [
              "{'data': array([[ 0.03807591,  0.05068012,  0.06169621, ..., -0.00259226,\n",
              "          0.01990749, -0.01764613],\n",
              "        [-0.00188202, -0.04464164, -0.05147406, ..., -0.03949338,\n",
              "         -0.06833155, -0.09220405],\n",
              "        [ 0.08529891,  0.05068012,  0.04445121, ..., -0.00259226,\n",
              "          0.00286131, -0.02593034],\n",
              "        ...,\n",
              "        [ 0.04170844,  0.05068012, -0.01590626, ..., -0.01107952,\n",
              "         -0.04688253,  0.01549073],\n",
              "        [-0.04547248, -0.04464164,  0.03906215, ...,  0.02655962,\n",
              "          0.04452873, -0.02593034],\n",
              "        [-0.04547248, -0.04464164, -0.0730303 , ..., -0.03949338,\n",
              "         -0.00422151,  0.00306441]]),\n",
              " 'target': array([151.,  75., 141., 206., 135.,  97., 138.,  63., 110., 310., 101.,\n",
              "         69., 179., 185., 118., 171., 166., 144.,  97., 168.,  68.,  49.,\n",
              "         68., 245., 184., 202., 137.,  85., 131., 283., 129.,  59., 341.,\n",
              "         87.,  65., 102., 265., 276., 252.,  90., 100.,  55.,  61.,  92.,\n",
              "        259.,  53., 190., 142.,  75., 142., 155., 225.,  59., 104., 182.,\n",
              "        128.,  52.,  37., 170., 170.,  61., 144.,  52., 128.,  71., 163.,\n",
              "        150.,  97., 160., 178.,  48., 270., 202., 111.,  85.,  42., 170.,\n",
              "        200., 252., 113., 143.,  51.,  52., 210.,  65., 141.,  55., 134.,\n",
              "         42., 111.,  98., 164.,  48.,  96.,  90., 162., 150., 279.,  92.,\n",
              "         83., 128., 102., 302., 198.,  95.,  53., 134., 144., 232.,  81.,\n",
              "        104.,  59., 246., 297., 258., 229., 275., 281., 179., 200., 200.,\n",
              "        173., 180.,  84., 121., 161.,  99., 109., 115., 268., 274., 158.,\n",
              "        107.,  83., 103., 272.,  85., 280., 336., 281., 118., 317., 235.,\n",
              "         60., 174., 259., 178., 128.,  96., 126., 288.,  88., 292.,  71.,\n",
              "        197., 186.,  25.,  84.,  96., 195.,  53., 217., 172., 131., 214.,\n",
              "         59.,  70., 220., 268., 152.,  47.,  74., 295., 101., 151., 127.,\n",
              "        237., 225.,  81., 151., 107.,  64., 138., 185., 265., 101., 137.,\n",
              "        143., 141.,  79., 292., 178.,  91., 116.,  86., 122.,  72., 129.,\n",
              "        142.,  90., 158.,  39., 196., 222., 277.,  99., 196., 202., 155.,\n",
              "         77., 191.,  70.,  73.,  49.,  65., 263., 248., 296., 214., 185.,\n",
              "         78.,  93., 252., 150.,  77., 208.,  77., 108., 160.,  53., 220.,\n",
              "        154., 259.,  90., 246., 124.,  67.,  72., 257., 262., 275., 177.,\n",
              "         71.,  47., 187., 125.,  78.,  51., 258., 215., 303., 243.,  91.,\n",
              "        150., 310., 153., 346.,  63.,  89.,  50.,  39., 103., 308., 116.,\n",
              "        145.,  74.,  45., 115., 264.,  87., 202., 127., 182., 241.,  66.,\n",
              "         94., 283.,  64., 102., 200., 265.,  94., 230., 181., 156., 233.,\n",
              "         60., 219.,  80.,  68., 332., 248.,  84., 200.,  55.,  85.,  89.,\n",
              "         31., 129.,  83., 275.,  65., 198., 236., 253., 124.,  44., 172.,\n",
              "        114., 142., 109., 180., 144., 163., 147.,  97., 220., 190., 109.,\n",
              "        191., 122., 230., 242., 248., 249., 192., 131., 237.,  78., 135.,\n",
              "        244., 199., 270., 164.,  72.,  96., 306.,  91., 214.,  95., 216.,\n",
              "        263., 178., 113., 200., 139., 139.,  88., 148.,  88., 243.,  71.,\n",
              "         77., 109., 272.,  60.,  54., 221.,  90., 311., 281., 182., 321.,\n",
              "         58., 262., 206., 233., 242., 123., 167.,  63., 197.,  71., 168.,\n",
              "        140., 217., 121., 235., 245.,  40.,  52., 104., 132.,  88.,  69.,\n",
              "        219.,  72., 201., 110.,  51., 277.,  63., 118.,  69., 273., 258.,\n",
              "         43., 198., 242., 232., 175.,  93., 168., 275., 293., 281.,  72.,\n",
              "        140., 189., 181., 209., 136., 261., 113., 131., 174., 257.,  55.,\n",
              "         84.,  42., 146., 212., 233.,  91., 111., 152., 120.,  67., 310.,\n",
              "         94., 183.,  66., 173.,  72.,  49.,  64.,  48., 178., 104., 132.,\n",
              "        220.,  57.]),\n",
              " 'frame': None,\n",
              " 'DESCR': '.. _diabetes_dataset:\\n\\nDiabetes dataset\\n----------------\\n\\nTen baseline variables, age, sex, body mass index, average blood\\npressure, and six blood serum measurements were obtained for each of n =\\n442 diabetes patients, as well as the response of interest, a\\nquantitative measure of disease progression one year after baseline.\\n\\n**Data Set Characteristics:**\\n\\n  :Number of Instances: 442\\n\\n  :Number of Attributes: First 10 columns are numeric predictive values\\n\\n  :Target: Column 11 is a quantitative measure of disease progression one year after baseline\\n\\n  :Attribute Information:\\n      - age     age in years\\n      - sex\\n      - bmi     body mass index\\n      - bp      average blood pressure\\n      - s1      tc, total serum cholesterol\\n      - s2      ldl, low-density lipoproteins\\n      - s3      hdl, high-density lipoproteins\\n      - s4      tch, total cholesterol / HDL\\n      - s5      ltg, possibly log of serum triglycerides level\\n      - s6      glu, blood sugar level\\n\\nNote: Each of these 10 feature variables have been mean centered and scaled by the standard deviation times the square root of `n_samples` (i.e. the sum of squares of each column totals 1).\\n\\nSource URL:\\nhttps://www4.stat.ncsu.edu/~boos/var.select/diabetes.html\\n\\nFor more information see:\\nBradley Efron, Trevor Hastie, Iain Johnstone and Robert Tibshirani (2004) \"Least Angle Regression,\" Annals of Statistics (with discussion), 407-499.\\n(https://web.stanford.edu/~hastie/Papers/LARS/LeastAngle_2002.pdf)\\n',\n",
              " 'feature_names': ['age',\n",
              "  'sex',\n",
              "  'bmi',\n",
              "  'bp',\n",
              "  's1',\n",
              "  's2',\n",
              "  's3',\n",
              "  's4',\n",
              "  's5',\n",
              "  's6'],\n",
              " 'data_filename': 'diabetes_data_raw.csv.gz',\n",
              " 'target_filename': 'diabetes_target.csv.gz',\n",
              " 'data_module': 'sklearn.datasets.data'}"
            ]
          },
          "metadata": {},
          "execution_count": 92
        }
      ]
    },
    {
      "cell_type": "code",
      "source": [
        "diabetes.keys()"
      ],
      "metadata": {
        "colab": {
          "base_uri": "https://localhost:8080/"
        },
        "id": "tAiwfOZyv55J",
        "outputId": "f8bc974e-06b7-413c-ae1d-66e77d7e3a35"
      },
      "execution_count": 94,
      "outputs": [
        {
          "output_type": "execute_result",
          "data": {
            "text/plain": [
              "dict_keys(['data', 'target', 'frame', 'DESCR', 'feature_names', 'data_filename', 'target_filename', 'data_module'])"
            ]
          },
          "metadata": {},
          "execution_count": 94
        }
      ]
    },
    {
      "cell_type": "code",
      "source": [
        "X = diabetes['data']"
      ],
      "metadata": {
        "id": "q5yL2SeXwO4D"
      },
      "execution_count": 93,
      "outputs": []
    },
    {
      "cell_type": "code",
      "source": [
        "X"
      ],
      "metadata": {
        "colab": {
          "base_uri": "https://localhost:8080/"
        },
        "id": "Na2DHI9M60vE",
        "outputId": "06a86494-7e6b-4be5-a7f7-dcbde5dbe585"
      },
      "execution_count": 95,
      "outputs": [
        {
          "output_type": "execute_result",
          "data": {
            "text/plain": [
              "array([[ 0.03807591,  0.05068012,  0.06169621, ..., -0.00259226,\n",
              "         0.01990749, -0.01764613],\n",
              "       [-0.00188202, -0.04464164, -0.05147406, ..., -0.03949338,\n",
              "        -0.06833155, -0.09220405],\n",
              "       [ 0.08529891,  0.05068012,  0.04445121, ..., -0.00259226,\n",
              "         0.00286131, -0.02593034],\n",
              "       ...,\n",
              "       [ 0.04170844,  0.05068012, -0.01590626, ..., -0.01107952,\n",
              "        -0.04688253,  0.01549073],\n",
              "       [-0.04547248, -0.04464164,  0.03906215, ...,  0.02655962,\n",
              "         0.04452873, -0.02593034],\n",
              "       [-0.04547248, -0.04464164, -0.0730303 , ..., -0.03949338,\n",
              "        -0.00422151,  0.00306441]])"
            ]
          },
          "metadata": {},
          "execution_count": 95
        }
      ]
    },
    {
      "cell_type": "code",
      "source": [
        "y = diabetes['target']"
      ],
      "metadata": {
        "id": "EKnGPupmwR02"
      },
      "execution_count": 96,
      "outputs": []
    },
    {
      "cell_type": "code",
      "source": [
        "y"
      ],
      "metadata": {
        "colab": {
          "base_uri": "https://localhost:8080/"
        },
        "id": "fxLyA9tdwjGW",
        "outputId": "d6071163-e4ed-4fb1-e665-7477f3981958"
      },
      "execution_count": 97,
      "outputs": [
        {
          "output_type": "execute_result",
          "data": {
            "text/plain": [
              "array([151.,  75., 141., 206., 135.,  97., 138.,  63., 110., 310., 101.,\n",
              "        69., 179., 185., 118., 171., 166., 144.,  97., 168.,  68.,  49.,\n",
              "        68., 245., 184., 202., 137.,  85., 131., 283., 129.,  59., 341.,\n",
              "        87.,  65., 102., 265., 276., 252.,  90., 100.,  55.,  61.,  92.,\n",
              "       259.,  53., 190., 142.,  75., 142., 155., 225.,  59., 104., 182.,\n",
              "       128.,  52.,  37., 170., 170.,  61., 144.,  52., 128.,  71., 163.,\n",
              "       150.,  97., 160., 178.,  48., 270., 202., 111.,  85.,  42., 170.,\n",
              "       200., 252., 113., 143.,  51.,  52., 210.,  65., 141.,  55., 134.,\n",
              "        42., 111.,  98., 164.,  48.,  96.,  90., 162., 150., 279.,  92.,\n",
              "        83., 128., 102., 302., 198.,  95.,  53., 134., 144., 232.,  81.,\n",
              "       104.,  59., 246., 297., 258., 229., 275., 281., 179., 200., 200.,\n",
              "       173., 180.,  84., 121., 161.,  99., 109., 115., 268., 274., 158.,\n",
              "       107.,  83., 103., 272.,  85., 280., 336., 281., 118., 317., 235.,\n",
              "        60., 174., 259., 178., 128.,  96., 126., 288.,  88., 292.,  71.,\n",
              "       197., 186.,  25.,  84.,  96., 195.,  53., 217., 172., 131., 214.,\n",
              "        59.,  70., 220., 268., 152.,  47.,  74., 295., 101., 151., 127.,\n",
              "       237., 225.,  81., 151., 107.,  64., 138., 185., 265., 101., 137.,\n",
              "       143., 141.,  79., 292., 178.,  91., 116.,  86., 122.,  72., 129.,\n",
              "       142.,  90., 158.,  39., 196., 222., 277.,  99., 196., 202., 155.,\n",
              "        77., 191.,  70.,  73.,  49.,  65., 263., 248., 296., 214., 185.,\n",
              "        78.,  93., 252., 150.,  77., 208.,  77., 108., 160.,  53., 220.,\n",
              "       154., 259.,  90., 246., 124.,  67.,  72., 257., 262., 275., 177.,\n",
              "        71.,  47., 187., 125.,  78.,  51., 258., 215., 303., 243.,  91.,\n",
              "       150., 310., 153., 346.,  63.,  89.,  50.,  39., 103., 308., 116.,\n",
              "       145.,  74.,  45., 115., 264.,  87., 202., 127., 182., 241.,  66.,\n",
              "        94., 283.,  64., 102., 200., 265.,  94., 230., 181., 156., 233.,\n",
              "        60., 219.,  80.,  68., 332., 248.,  84., 200.,  55.,  85.,  89.,\n",
              "        31., 129.,  83., 275.,  65., 198., 236., 253., 124.,  44., 172.,\n",
              "       114., 142., 109., 180., 144., 163., 147.,  97., 220., 190., 109.,\n",
              "       191., 122., 230., 242., 248., 249., 192., 131., 237.,  78., 135.,\n",
              "       244., 199., 270., 164.,  72.,  96., 306.,  91., 214.,  95., 216.,\n",
              "       263., 178., 113., 200., 139., 139.,  88., 148.,  88., 243.,  71.,\n",
              "        77., 109., 272.,  60.,  54., 221.,  90., 311., 281., 182., 321.,\n",
              "        58., 262., 206., 233., 242., 123., 167.,  63., 197.,  71., 168.,\n",
              "       140., 217., 121., 235., 245.,  40.,  52., 104., 132.,  88.,  69.,\n",
              "       219.,  72., 201., 110.,  51., 277.,  63., 118.,  69., 273., 258.,\n",
              "        43., 198., 242., 232., 175.,  93., 168., 275., 293., 281.,  72.,\n",
              "       140., 189., 181., 209., 136., 261., 113., 131., 174., 257.,  55.,\n",
              "        84.,  42., 146., 212., 233.,  91., 111., 152., 120.,  67., 310.,\n",
              "        94., 183.,  66., 173.,  72.,  49.,  64.,  48., 178., 104., 132.,\n",
              "       220.,  57.])"
            ]
          },
          "metadata": {},
          "execution_count": 97
        }
      ]
    },
    {
      "cell_type": "code",
      "source": [
        "df = pd.DataFrame(X, columns = diabetes['feature_names'])\n",
        "df['output'] = y"
      ],
      "metadata": {
        "id": "KcnbPkU6wY9p"
      },
      "execution_count": 103,
      "outputs": []
    },
    {
      "cell_type": "code",
      "source": [
        "df"
      ],
      "metadata": {
        "colab": {
          "base_uri": "https://localhost:8080/",
          "height": 488
        },
        "id": "IyU1RjRvwZl1",
        "outputId": "1f0fbb29-773d-4d41-e619-cf10ca8d1d81"
      },
      "execution_count": 104,
      "outputs": [
        {
          "output_type": "execute_result",
          "data": {
            "text/plain": [
              "          age       sex       bmi        bp        s1        s2        s3  \\\n",
              "0    0.038076  0.050680  0.061696  0.021872 -0.044223 -0.034821 -0.043401   \n",
              "1   -0.001882 -0.044642 -0.051474 -0.026328 -0.008449 -0.019163  0.074412   \n",
              "2    0.085299  0.050680  0.044451 -0.005670 -0.045599 -0.034194 -0.032356   \n",
              "3   -0.089063 -0.044642 -0.011595 -0.036656  0.012191  0.024991 -0.036038   \n",
              "4    0.005383 -0.044642 -0.036385  0.021872  0.003935  0.015596  0.008142   \n",
              "..        ...       ...       ...       ...       ...       ...       ...   \n",
              "437  0.041708  0.050680  0.019662  0.059744 -0.005697 -0.002566 -0.028674   \n",
              "438 -0.005515  0.050680 -0.015906 -0.067642  0.049341  0.079165 -0.028674   \n",
              "439  0.041708  0.050680 -0.015906  0.017293 -0.037344 -0.013840 -0.024993   \n",
              "440 -0.045472 -0.044642  0.039062  0.001215  0.016318  0.015283 -0.028674   \n",
              "441 -0.045472 -0.044642 -0.073030 -0.081413  0.083740  0.027809  0.173816   \n",
              "\n",
              "           s4        s5        s6  output  \n",
              "0   -0.002592  0.019907 -0.017646   151.0  \n",
              "1   -0.039493 -0.068332 -0.092204    75.0  \n",
              "2   -0.002592  0.002861 -0.025930   141.0  \n",
              "3    0.034309  0.022688 -0.009362   206.0  \n",
              "4   -0.002592 -0.031988 -0.046641   135.0  \n",
              "..        ...       ...       ...     ...  \n",
              "437 -0.002592  0.031193  0.007207   178.0  \n",
              "438  0.034309 -0.018114  0.044485   104.0  \n",
              "439 -0.011080 -0.046883  0.015491   132.0  \n",
              "440  0.026560  0.044529 -0.025930   220.0  \n",
              "441 -0.039493 -0.004222  0.003064    57.0  \n",
              "\n",
              "[442 rows x 11 columns]"
            ],
            "text/html": [
              "\n",
              "  <div id=\"df-2d42150a-7659-4053-9541-02194559bfd9\">\n",
              "    <div class=\"colab-df-container\">\n",
              "      <div>\n",
              "<style scoped>\n",
              "    .dataframe tbody tr th:only-of-type {\n",
              "        vertical-align: middle;\n",
              "    }\n",
              "\n",
              "    .dataframe tbody tr th {\n",
              "        vertical-align: top;\n",
              "    }\n",
              "\n",
              "    .dataframe thead th {\n",
              "        text-align: right;\n",
              "    }\n",
              "</style>\n",
              "<table border=\"1\" class=\"dataframe\">\n",
              "  <thead>\n",
              "    <tr style=\"text-align: right;\">\n",
              "      <th></th>\n",
              "      <th>age</th>\n",
              "      <th>sex</th>\n",
              "      <th>bmi</th>\n",
              "      <th>bp</th>\n",
              "      <th>s1</th>\n",
              "      <th>s2</th>\n",
              "      <th>s3</th>\n",
              "      <th>s4</th>\n",
              "      <th>s5</th>\n",
              "      <th>s6</th>\n",
              "      <th>output</th>\n",
              "    </tr>\n",
              "  </thead>\n",
              "  <tbody>\n",
              "    <tr>\n",
              "      <th>0</th>\n",
              "      <td>0.038076</td>\n",
              "      <td>0.050680</td>\n",
              "      <td>0.061696</td>\n",
              "      <td>0.021872</td>\n",
              "      <td>-0.044223</td>\n",
              "      <td>-0.034821</td>\n",
              "      <td>-0.043401</td>\n",
              "      <td>-0.002592</td>\n",
              "      <td>0.019907</td>\n",
              "      <td>-0.017646</td>\n",
              "      <td>151.0</td>\n",
              "    </tr>\n",
              "    <tr>\n",
              "      <th>1</th>\n",
              "      <td>-0.001882</td>\n",
              "      <td>-0.044642</td>\n",
              "      <td>-0.051474</td>\n",
              "      <td>-0.026328</td>\n",
              "      <td>-0.008449</td>\n",
              "      <td>-0.019163</td>\n",
              "      <td>0.074412</td>\n",
              "      <td>-0.039493</td>\n",
              "      <td>-0.068332</td>\n",
              "      <td>-0.092204</td>\n",
              "      <td>75.0</td>\n",
              "    </tr>\n",
              "    <tr>\n",
              "      <th>2</th>\n",
              "      <td>0.085299</td>\n",
              "      <td>0.050680</td>\n",
              "      <td>0.044451</td>\n",
              "      <td>-0.005670</td>\n",
              "      <td>-0.045599</td>\n",
              "      <td>-0.034194</td>\n",
              "      <td>-0.032356</td>\n",
              "      <td>-0.002592</td>\n",
              "      <td>0.002861</td>\n",
              "      <td>-0.025930</td>\n",
              "      <td>141.0</td>\n",
              "    </tr>\n",
              "    <tr>\n",
              "      <th>3</th>\n",
              "      <td>-0.089063</td>\n",
              "      <td>-0.044642</td>\n",
              "      <td>-0.011595</td>\n",
              "      <td>-0.036656</td>\n",
              "      <td>0.012191</td>\n",
              "      <td>0.024991</td>\n",
              "      <td>-0.036038</td>\n",
              "      <td>0.034309</td>\n",
              "      <td>0.022688</td>\n",
              "      <td>-0.009362</td>\n",
              "      <td>206.0</td>\n",
              "    </tr>\n",
              "    <tr>\n",
              "      <th>4</th>\n",
              "      <td>0.005383</td>\n",
              "      <td>-0.044642</td>\n",
              "      <td>-0.036385</td>\n",
              "      <td>0.021872</td>\n",
              "      <td>0.003935</td>\n",
              "      <td>0.015596</td>\n",
              "      <td>0.008142</td>\n",
              "      <td>-0.002592</td>\n",
              "      <td>-0.031988</td>\n",
              "      <td>-0.046641</td>\n",
              "      <td>135.0</td>\n",
              "    </tr>\n",
              "    <tr>\n",
              "      <th>...</th>\n",
              "      <td>...</td>\n",
              "      <td>...</td>\n",
              "      <td>...</td>\n",
              "      <td>...</td>\n",
              "      <td>...</td>\n",
              "      <td>...</td>\n",
              "      <td>...</td>\n",
              "      <td>...</td>\n",
              "      <td>...</td>\n",
              "      <td>...</td>\n",
              "      <td>...</td>\n",
              "    </tr>\n",
              "    <tr>\n",
              "      <th>437</th>\n",
              "      <td>0.041708</td>\n",
              "      <td>0.050680</td>\n",
              "      <td>0.019662</td>\n",
              "      <td>0.059744</td>\n",
              "      <td>-0.005697</td>\n",
              "      <td>-0.002566</td>\n",
              "      <td>-0.028674</td>\n",
              "      <td>-0.002592</td>\n",
              "      <td>0.031193</td>\n",
              "      <td>0.007207</td>\n",
              "      <td>178.0</td>\n",
              "    </tr>\n",
              "    <tr>\n",
              "      <th>438</th>\n",
              "      <td>-0.005515</td>\n",
              "      <td>0.050680</td>\n",
              "      <td>-0.015906</td>\n",
              "      <td>-0.067642</td>\n",
              "      <td>0.049341</td>\n",
              "      <td>0.079165</td>\n",
              "      <td>-0.028674</td>\n",
              "      <td>0.034309</td>\n",
              "      <td>-0.018114</td>\n",
              "      <td>0.044485</td>\n",
              "      <td>104.0</td>\n",
              "    </tr>\n",
              "    <tr>\n",
              "      <th>439</th>\n",
              "      <td>0.041708</td>\n",
              "      <td>0.050680</td>\n",
              "      <td>-0.015906</td>\n",
              "      <td>0.017293</td>\n",
              "      <td>-0.037344</td>\n",
              "      <td>-0.013840</td>\n",
              "      <td>-0.024993</td>\n",
              "      <td>-0.011080</td>\n",
              "      <td>-0.046883</td>\n",
              "      <td>0.015491</td>\n",
              "      <td>132.0</td>\n",
              "    </tr>\n",
              "    <tr>\n",
              "      <th>440</th>\n",
              "      <td>-0.045472</td>\n",
              "      <td>-0.044642</td>\n",
              "      <td>0.039062</td>\n",
              "      <td>0.001215</td>\n",
              "      <td>0.016318</td>\n",
              "      <td>0.015283</td>\n",
              "      <td>-0.028674</td>\n",
              "      <td>0.026560</td>\n",
              "      <td>0.044529</td>\n",
              "      <td>-0.025930</td>\n",
              "      <td>220.0</td>\n",
              "    </tr>\n",
              "    <tr>\n",
              "      <th>441</th>\n",
              "      <td>-0.045472</td>\n",
              "      <td>-0.044642</td>\n",
              "      <td>-0.073030</td>\n",
              "      <td>-0.081413</td>\n",
              "      <td>0.083740</td>\n",
              "      <td>0.027809</td>\n",
              "      <td>0.173816</td>\n",
              "      <td>-0.039493</td>\n",
              "      <td>-0.004222</td>\n",
              "      <td>0.003064</td>\n",
              "      <td>57.0</td>\n",
              "    </tr>\n",
              "  </tbody>\n",
              "</table>\n",
              "<p>442 rows × 11 columns</p>\n",
              "</div>\n",
              "      <button class=\"colab-df-convert\" onclick=\"convertToInteractive('df-2d42150a-7659-4053-9541-02194559bfd9')\"\n",
              "              title=\"Convert this dataframe to an interactive table.\"\n",
              "              style=\"display:none;\">\n",
              "        \n",
              "  <svg xmlns=\"http://www.w3.org/2000/svg\" height=\"24px\"viewBox=\"0 0 24 24\"\n",
              "       width=\"24px\">\n",
              "    <path d=\"M0 0h24v24H0V0z\" fill=\"none\"/>\n",
              "    <path d=\"M18.56 5.44l.94 2.06.94-2.06 2.06-.94-2.06-.94-.94-2.06-.94 2.06-2.06.94zm-11 1L8.5 8.5l.94-2.06 2.06-.94-2.06-.94L8.5 2.5l-.94 2.06-2.06.94zm10 10l.94 2.06.94-2.06 2.06-.94-2.06-.94-.94-2.06-.94 2.06-2.06.94z\"/><path d=\"M17.41 7.96l-1.37-1.37c-.4-.4-.92-.59-1.43-.59-.52 0-1.04.2-1.43.59L10.3 9.45l-7.72 7.72c-.78.78-.78 2.05 0 2.83L4 21.41c.39.39.9.59 1.41.59.51 0 1.02-.2 1.41-.59l7.78-7.78 2.81-2.81c.8-.78.8-2.07 0-2.86zM5.41 20L4 18.59l7.72-7.72 1.47 1.35L5.41 20z\"/>\n",
              "  </svg>\n",
              "      </button>\n",
              "      \n",
              "  <style>\n",
              "    .colab-df-container {\n",
              "      display:flex;\n",
              "      flex-wrap:wrap;\n",
              "      gap: 12px;\n",
              "    }\n",
              "\n",
              "    .colab-df-convert {\n",
              "      background-color: #E8F0FE;\n",
              "      border: none;\n",
              "      border-radius: 50%;\n",
              "      cursor: pointer;\n",
              "      display: none;\n",
              "      fill: #1967D2;\n",
              "      height: 32px;\n",
              "      padding: 0 0 0 0;\n",
              "      width: 32px;\n",
              "    }\n",
              "\n",
              "    .colab-df-convert:hover {\n",
              "      background-color: #E2EBFA;\n",
              "      box-shadow: 0px 1px 2px rgba(60, 64, 67, 0.3), 0px 1px 3px 1px rgba(60, 64, 67, 0.15);\n",
              "      fill: #174EA6;\n",
              "    }\n",
              "\n",
              "    [theme=dark] .colab-df-convert {\n",
              "      background-color: #3B4455;\n",
              "      fill: #D2E3FC;\n",
              "    }\n",
              "\n",
              "    [theme=dark] .colab-df-convert:hover {\n",
              "      background-color: #434B5C;\n",
              "      box-shadow: 0px 1px 3px 1px rgba(0, 0, 0, 0.15);\n",
              "      filter: drop-shadow(0px 1px 2px rgba(0, 0, 0, 0.3));\n",
              "      fill: #FFFFFF;\n",
              "    }\n",
              "  </style>\n",
              "\n",
              "      <script>\n",
              "        const buttonEl =\n",
              "          document.querySelector('#df-2d42150a-7659-4053-9541-02194559bfd9 button.colab-df-convert');\n",
              "        buttonEl.style.display =\n",
              "          google.colab.kernel.accessAllowed ? 'block' : 'none';\n",
              "\n",
              "        async function convertToInteractive(key) {\n",
              "          const element = document.querySelector('#df-2d42150a-7659-4053-9541-02194559bfd9');\n",
              "          const dataTable =\n",
              "            await google.colab.kernel.invokeFunction('convertToInteractive',\n",
              "                                                     [key], {});\n",
              "          if (!dataTable) return;\n",
              "\n",
              "          const docLinkHtml = 'Like what you see? Visit the ' +\n",
              "            '<a target=\"_blank\" href=https://colab.research.google.com/notebooks/data_table.ipynb>data table notebook</a>'\n",
              "            + ' to learn more about interactive tables.';\n",
              "          element.innerHTML = '';\n",
              "          dataTable['output_type'] = 'display_data';\n",
              "          await google.colab.output.renderOutput(dataTable, element);\n",
              "          const docLink = document.createElement('div');\n",
              "          docLink.innerHTML = docLinkHtml;\n",
              "          element.appendChild(docLink);\n",
              "        }\n",
              "      </script>\n",
              "    </div>\n",
              "  </div>\n",
              "  "
            ]
          },
          "metadata": {},
          "execution_count": 104
        }
      ]
    },
    {
      "cell_type": "code",
      "source": [
        "X_train, X_test, y_train, y_test = train_test_split(X, y, test_size = 0.2, random_state = 0)"
      ],
      "metadata": {
        "id": "mLzj7eWDwySy"
      },
      "execution_count": 106,
      "outputs": []
    },
    {
      "cell_type": "code",
      "source": [
        "X_train.shape, X_test.shape, y_train.shape, y_test.shape"
      ],
      "metadata": {
        "colab": {
          "base_uri": "https://localhost:8080/"
        },
        "id": "GfQpFijMxVTA",
        "outputId": "c47c6ee9-5de8-49ab-a39f-114c831d33c4"
      },
      "execution_count": 107,
      "outputs": [
        {
          "output_type": "execute_result",
          "data": {
            "text/plain": [
              "((353, 10), (89, 10), (353,), (89,))"
            ]
          },
          "metadata": {},
          "execution_count": 107
        }
      ]
    },
    {
      "cell_type": "code",
      "source": [
        "from sklearn.neighbors import KNeighborsRegressor\n",
        "model = KNeighborsRegressor() #n_neighbors = 6"
      ],
      "metadata": {
        "id": "cB1-4oR_xa5o"
      },
      "execution_count": 108,
      "outputs": []
    },
    {
      "cell_type": "code",
      "source": [
        "model.fit(X_train, y_train)\n",
        "model.score(X_test, y_test)"
      ],
      "metadata": {
        "colab": {
          "base_uri": "https://localhost:8080/"
        },
        "id": "FAEoxDLsxsnE",
        "outputId": "5a12e5ed-0fdc-4a0a-d817-b190989bff90"
      },
      "execution_count": 109,
      "outputs": [
        {
          "output_type": "execute_result",
          "data": {
            "text/plain": [
              "0.1724878302420758"
            ]
          },
          "metadata": {},
          "execution_count": 109
        }
      ]
    },
    {
      "cell_type": "code",
      "source": [
        "regression_accuracy_scores = []\n",
        "for i in range(1, 350):\n",
        "  model = KNeighborsRegressor(n_neighbors = i)\n",
        "  model.fit(X_train, y_train)\n",
        "  regression_accuracy_scores.append(model.score(X_test, y_test))"
      ],
      "metadata": {
        "id": "t-0KZXTz0IeM"
      },
      "execution_count": 110,
      "outputs": []
    },
    {
      "cell_type": "code",
      "source": [
        "regression_accuracy_scores"
      ],
      "metadata": {
        "id": "jNvzz6lf0Xpl",
        "outputId": "e8ef608f-2785-4244-f53c-91258d976e61",
        "colab": {
          "base_uri": "https://localhost:8080/"
        }
      },
      "execution_count": 112,
      "outputs": [
        {
          "output_type": "execute_result",
          "data": {
            "text/plain": [
              "[-0.5756701103517106,\n",
              " -0.09748281624715549,\n",
              " 0.1389207013071473,\n",
              " 0.1723452643647656,\n",
              " 0.1724878302420758,\n",
              " 0.22766189476289544,\n",
              " 0.22012789155372325,\n",
              " 0.21893516010698144,\n",
              " 0.24258520144191742,\n",
              " 0.2755662790992537,\n",
              " 0.2843780091350775,\n",
              " 0.2908668520496738,\n",
              " 0.3370413300024564,\n",
              " 0.31944025781396,\n",
              " 0.33628487163657106,\n",
              " 0.34912897560084366,\n",
              " 0.3419808144904164,\n",
              " 0.3319991259278554,\n",
              " 0.3354207297848062,\n",
              " 0.3242689158534662,\n",
              " 0.3362794475711217,\n",
              " 0.33760687814709045,\n",
              " 0.3371343515994373,\n",
              " 0.3441822693471792,\n",
              " 0.34630106625312584,\n",
              " 0.3573420916584069,\n",
              " 0.35390235405532555,\n",
              " 0.35407754117866197,\n",
              " 0.3643894550076815,\n",
              " 0.36809623344742814,\n",
              " 0.3681061036105253,\n",
              " 0.3766089861648141,\n",
              " 0.3631456458610116,\n",
              " 0.36772710824750465,\n",
              " 0.36666962891104726,\n",
              " 0.3605513799239559,\n",
              " 0.3587154865785027,\n",
              " 0.352825369002032,\n",
              " 0.3548312907055118,\n",
              " 0.3542195328904626,\n",
              " 0.34908732682821264,\n",
              " 0.34631148562011715,\n",
              " 0.3440765944249081,\n",
              " 0.3406037657276173,\n",
              " 0.3417075603783153,\n",
              " 0.3419974560380117,\n",
              " 0.33231997910019395,\n",
              " 0.33400053398579843,\n",
              " 0.3310567537578114,\n",
              " 0.33214527751646983,\n",
              " 0.330123694873107,\n",
              " 0.32518684963190725,\n",
              " 0.32246147993184815,\n",
              " 0.3252049741364875,\n",
              " 0.32903442331653265,\n",
              " 0.32923412986944434,\n",
              " 0.3303685409235353,\n",
              " 0.3262306670912637,\n",
              " 0.32794814183547816,\n",
              " 0.32967768510337125,\n",
              " 0.3296804303590605,\n",
              " 0.32424110086529523,\n",
              " 0.32483991802720813,\n",
              " 0.32544227496589406,\n",
              " 0.3251862563413065,\n",
              " 0.3233152680491518,\n",
              " 0.32085302934077564,\n",
              " 0.318937487686181,\n",
              " 0.3192552678578554,\n",
              " 0.3190115730555799,\n",
              " 0.31570176348075085,\n",
              " 0.3134474477749212,\n",
              " 0.31518438600607934,\n",
              " 0.31553675272117954,\n",
              " 0.3156926987284525,\n",
              " 0.318966817196372,\n",
              " 0.3165308977535699,\n",
              " 0.31474647072376105,\n",
              " 0.3162458946975726,\n",
              " 0.31723329035599956,\n",
              " 0.31817376560038135,\n",
              " 0.3215302912447646,\n",
              " 0.3198756786638288,\n",
              " 0.32097838080904906,\n",
              " 0.3173617687454724,\n",
              " 0.3201922280221208,\n",
              " 0.3175514828154201,\n",
              " 0.31556680763575096,\n",
              " 0.31436046392085015,\n",
              " 0.31132380338866283,\n",
              " 0.3112679606596188,\n",
              " 0.3093024122968804,\n",
              " 0.30879181465548655,\n",
              " 0.30516342609264346,\n",
              " 0.30385113984090817,\n",
              " 0.3042552154312972,\n",
              " 0.3039731786869594,\n",
              " 0.30352150651707976,\n",
              " 0.3025653083610841,\n",
              " 0.3009380568123097,\n",
              " 0.30118894505289595,\n",
              " 0.30205167366906227,\n",
              " 0.3015819040713281,\n",
              " 0.30143026159161534,\n",
              " 0.3015192408660673,\n",
              " 0.30032702514467413,\n",
              " 0.29937792645864647,\n",
              " 0.2980193849157474,\n",
              " 0.29638667319788936,\n",
              " 0.29771885498302275,\n",
              " 0.2997270582684436,\n",
              " 0.2994320659936063,\n",
              " 0.2982858555426968,\n",
              " 0.29802923357469857,\n",
              " 0.29634922645180894,\n",
              " 0.294644505486063,\n",
              " 0.2956707240413574,\n",
              " 0.29659440638833645,\n",
              " 0.2951650939002626,\n",
              " 0.2974170984163985,\n",
              " 0.29911515122750265,\n",
              " 0.29907167115146127,\n",
              " 0.2958766587999222,\n",
              " 0.29615370432578736,\n",
              " 0.29526672879654525,\n",
              " 0.29727902941258877,\n",
              " 0.2952705628126948,\n",
              " 0.2951568724817152,\n",
              " 0.29492773909388514,\n",
              " 0.2948635472699397,\n",
              " 0.293794873825744,\n",
              " 0.29338600562185146,\n",
              " 0.2903420271528212,\n",
              " 0.28755390098790645,\n",
              " 0.2878530853607121,\n",
              " 0.28563230189955324,\n",
              " 0.284773688658998,\n",
              " 0.2833492367190612,\n",
              " 0.28266041020669674,\n",
              " 0.28130800350474294,\n",
              " 0.27931425363592266,\n",
              " 0.27874402308221,\n",
              " 0.27750190409041564,\n",
              " 0.2755025894279859,\n",
              " 0.2731786941686335,\n",
              " 0.27259656154390777,\n",
              " 0.27239184709981845,\n",
              " 0.2730873896818208,\n",
              " 0.27114460272607566,\n",
              " 0.26859668858918284,\n",
              " 0.26819655177085455,\n",
              " 0.2684669042052882,\n",
              " 0.2697541545089043,\n",
              " 0.27052492711419174,\n",
              " 0.26927072241155847,\n",
              " 0.2682420954333229,\n",
              " 0.2658696927633809,\n",
              " 0.2642775372028596,\n",
              " 0.26367980033859584,\n",
              " 0.2623500195497579,\n",
              " 0.26295196127253206,\n",
              " 0.26418712472345385,\n",
              " 0.2634268974834274,\n",
              " 0.26420387941357937,\n",
              " 0.2647243268633338,\n",
              " 0.26472934142393245,\n",
              " 0.26407646481439084,\n",
              " 0.2631036899885526,\n",
              " 0.26255813097291014,\n",
              " 0.2603105020190756,\n",
              " 0.2586922731417708,\n",
              " 0.2573439574304025,\n",
              " 0.25820607954506425,\n",
              " 0.2575249845933031,\n",
              " 0.25666380326327065,\n",
              " 0.2543163599522059,\n",
              " 0.25451993281096297,\n",
              " 0.2539196126607638,\n",
              " 0.25259053578752944,\n",
              " 0.2527284308921304,\n",
              " 0.252088347136069,\n",
              " 0.25122598794303097,\n",
              " 0.2512309252463448,\n",
              " 0.2502533282274193,\n",
              " 0.24989988730481527,\n",
              " 0.2497713112357084,\n",
              " 0.249763755492865,\n",
              " 0.2498576006570895,\n",
              " 0.24945417991689955,\n",
              " 0.24908026463627164,\n",
              " 0.24937328922396473,\n",
              " 0.24810570692116585,\n",
              " 0.24741492477218208,\n",
              " 0.2469434883214574,\n",
              " 0.24550246744425175,\n",
              " 0.24456428297260724,\n",
              " 0.24336912918128373,\n",
              " 0.2413747214661882,\n",
              " 0.24015300811884488,\n",
              " 0.23821424662855262,\n",
              " 0.2378613961826581,\n",
              " 0.2371343498587788,\n",
              " 0.2370991983726285,\n",
              " 0.23646184969478823,\n",
              " 0.23526989510025154,\n",
              " 0.2346284902246708,\n",
              " 0.23483959528994547,\n",
              " 0.2341517781739486,\n",
              " 0.23197687277297774,\n",
              " 0.23239362114615225,\n",
              " 0.23115056950708557,\n",
              " 0.2294839122643889,\n",
              " 0.22862225685576065,\n",
              " 0.22820477477812218,\n",
              " 0.22819413202960526,\n",
              " 0.22800467549502812,\n",
              " 0.22573830810596063,\n",
              " 0.22528807804380846,\n",
              " 0.22435708806128618,\n",
              " 0.222424707289267,\n",
              " 0.22214626123345693,\n",
              " 0.22005384562623642,\n",
              " 0.21740692722213273,\n",
              " 0.21790010216271094,\n",
              " 0.21619384712211742,\n",
              " 0.2163012291868327,\n",
              " 0.21532910784573134,\n",
              " 0.21362078155812214,\n",
              " 0.21350484701143402,\n",
              " 0.21395460861977977,\n",
              " 0.21130170862717512,\n",
              " 0.20995138307897876,\n",
              " 0.2090326501006965,\n",
              " 0.20852293720359083,\n",
              " 0.20673662812561355,\n",
              " 0.2059011758088657,\n",
              " 0.20654816306338308,\n",
              " 0.20486723711798882,\n",
              " 0.20433999622003707,\n",
              " 0.20347499973645244,\n",
              " 0.20328947105502382,\n",
              " 0.20135727699551553,\n",
              " 0.19950040557370197,\n",
              " 0.19978502068287363,\n",
              " 0.19718538769784533,\n",
              " 0.1954498856317377,\n",
              " 0.19496817947753886,\n",
              " 0.19397381238503086,\n",
              " 0.19181005134569562,\n",
              " 0.1926106672711888,\n",
              " 0.19020526698603324,\n",
              " 0.18759138542835685,\n",
              " 0.18584095768568187,\n",
              " 0.18529876815610058,\n",
              " 0.18385830878599463,\n",
              " 0.18372714225020415,\n",
              " 0.18237528005062686,\n",
              " 0.18218076451320397,\n",
              " 0.18208548012932602,\n",
              " 0.18071940603151992,\n",
              " 0.1796118524802104,\n",
              " 0.17806049545770064,\n",
              " 0.17630979911080302,\n",
              " 0.17539762668287728,\n",
              " 0.17429700132379988,\n",
              " 0.17422221337406862,\n",
              " 0.1726901082494936,\n",
              " 0.1699559908205278,\n",
              " 0.16821999592353865,\n",
              " 0.1680046446891531,\n",
              " 0.16670900672704292,\n",
              " 0.16365592182823085,\n",
              " 0.16293335328010194,\n",
              " 0.1615646446198491,\n",
              " 0.16119489200130732,\n",
              " 0.1593095285909969,\n",
              " 0.1580136358371652,\n",
              " 0.15636168485965252,\n",
              " 0.15611188073545168,\n",
              " 0.15490990378332659,\n",
              " 0.15293568681852188,\n",
              " 0.1500824937832338,\n",
              " 0.14802763922633033,\n",
              " 0.14712744283484225,\n",
              " 0.14507931265553753,\n",
              " 0.14362110106066095,\n",
              " 0.14121160893467422,\n",
              " 0.1397034454578171,\n",
              " 0.1383640008819853,\n",
              " 0.13728525971539784,\n",
              " 0.13745059185729702,\n",
              " 0.13374706166471595,\n",
              " 0.13254299701369532,\n",
              " 0.13145644324109018,\n",
              " 0.13137053962740042,\n",
              " 0.1297401992472661,\n",
              " 0.12719121600456718,\n",
              " 0.12420479790319094,\n",
              " 0.12245225413739458,\n",
              " 0.12117775368382733,\n",
              " 0.11828522397971852,\n",
              " 0.11598922783615373,\n",
              " 0.11356365594040607,\n",
              " 0.11131490210387074,\n",
              " 0.11001092468829232,\n",
              " 0.10793711642080717,\n",
              " 0.10617619678608647,\n",
              " 0.10408069737780068,\n",
              " 0.10184968396617933,\n",
              " 0.10002861565465782,\n",
              " 0.09782840847014385,\n",
              " 0.09621429862932995,\n",
              " 0.0933812122816412,\n",
              " 0.09104917780977351,\n",
              " 0.08846456183811813,\n",
              " 0.08523672252911219,\n",
              " 0.08352820548979611,\n",
              " 0.08126838490955546,\n",
              " 0.07984905327642366,\n",
              " 0.07787925417917108,\n",
              " 0.07605731308555785,\n",
              " 0.07358755592284782,\n",
              " 0.07122706499848652,\n",
              " 0.07006431128508483,\n",
              " 0.06832193252397745,\n",
              " 0.06616771281292577,\n",
              " 0.06352938667012831,\n",
              " 0.06142937181675889,\n",
              " 0.05860648156151904,\n",
              " 0.056196400189100215,\n",
              " 0.05465076159651783,\n",
              " 0.05216003558273019,\n",
              " 0.04935377338296487,\n",
              " 0.04693881415004897,\n",
              " 0.04338450155589291,\n",
              " 0.04097610210500102,\n",
              " 0.03822651319472625,\n",
              " 0.035206127259299946,\n",
              " 0.033406087956517116,\n",
              " 0.03085211387515463,\n",
              " 0.028299215049011117,\n",
              " 0.025026244949928556,\n",
              " 0.021883855742671154,\n",
              " 0.018843259583270267,\n",
              " 0.015869918453801368,\n",
              " 0.012663793115792354,\n",
              " 0.010652928833695618,\n",
              " 0.007959229648570987,\n",
              " 0.005470296245738582]"
            ]
          },
          "metadata": {},
          "execution_count": 112
        }
      ]
    },
    {
      "cell_type": "code",
      "source": [
        "from sklearn.metrics import r2_score \n",
        "r2_score(y_test, model.predict(X_test))"
      ],
      "metadata": {
        "colab": {
          "base_uri": "https://localhost:8080/"
        },
        "id": "k3qWyir7ycYc",
        "outputId": "78fa0b07-059a-4ad7-e8ad-8fb981813b87"
      },
      "execution_count": 113,
      "outputs": [
        {
          "output_type": "execute_result",
          "data": {
            "text/plain": [
              "0.005470296245738582"
            ]
          },
          "metadata": {},
          "execution_count": 113
        }
      ]
    },
    {
      "cell_type": "code",
      "source": [
        "y_pred = model.predict(X_test)"
      ],
      "metadata": {
        "id": "a0MljoqXytKQ"
      },
      "execution_count": 114,
      "outputs": []
    },
    {
      "cell_type": "code",
      "source": [
        "df11 = pd.DataFrame({'y_act':y_test, 'y_pred': y_pred})"
      ],
      "metadata": {
        "id": "Tw8NI3qpzr-o"
      },
      "execution_count": 115,
      "outputs": []
    },
    {
      "cell_type": "code",
      "source": [
        "df11"
      ],
      "metadata": {
        "colab": {
          "base_uri": "https://localhost:8080/",
          "height": 424
        },
        "id": "pcENAxb5zs48",
        "outputId": "bdc0df28-47a7-468b-9b1c-d0e2f04d6983"
      },
      "execution_count": 116,
      "outputs": [
        {
          "output_type": "execute_result",
          "data": {
            "text/plain": [
              "    y_act      y_pred\n",
              "0   321.0  152.080229\n",
              "1   215.0  152.406877\n",
              "2   127.0  150.974212\n",
              "3    64.0  151.157593\n",
              "4   175.0  151.157593\n",
              "..    ...         ...\n",
              "84  104.0  151.083095\n",
              "85   49.0  151.157593\n",
              "86  103.0  151.048711\n",
              "87  142.0  152.323782\n",
              "88   59.0  150.902579\n",
              "\n",
              "[89 rows x 2 columns]"
            ],
            "text/html": [
              "\n",
              "  <div id=\"df-4c89be8b-7b04-4ea3-93c9-38d00c738963\">\n",
              "    <div class=\"colab-df-container\">\n",
              "      <div>\n",
              "<style scoped>\n",
              "    .dataframe tbody tr th:only-of-type {\n",
              "        vertical-align: middle;\n",
              "    }\n",
              "\n",
              "    .dataframe tbody tr th {\n",
              "        vertical-align: top;\n",
              "    }\n",
              "\n",
              "    .dataframe thead th {\n",
              "        text-align: right;\n",
              "    }\n",
              "</style>\n",
              "<table border=\"1\" class=\"dataframe\">\n",
              "  <thead>\n",
              "    <tr style=\"text-align: right;\">\n",
              "      <th></th>\n",
              "      <th>y_act</th>\n",
              "      <th>y_pred</th>\n",
              "    </tr>\n",
              "  </thead>\n",
              "  <tbody>\n",
              "    <tr>\n",
              "      <th>0</th>\n",
              "      <td>321.0</td>\n",
              "      <td>152.080229</td>\n",
              "    </tr>\n",
              "    <tr>\n",
              "      <th>1</th>\n",
              "      <td>215.0</td>\n",
              "      <td>152.406877</td>\n",
              "    </tr>\n",
              "    <tr>\n",
              "      <th>2</th>\n",
              "      <td>127.0</td>\n",
              "      <td>150.974212</td>\n",
              "    </tr>\n",
              "    <tr>\n",
              "      <th>3</th>\n",
              "      <td>64.0</td>\n",
              "      <td>151.157593</td>\n",
              "    </tr>\n",
              "    <tr>\n",
              "      <th>4</th>\n",
              "      <td>175.0</td>\n",
              "      <td>151.157593</td>\n",
              "    </tr>\n",
              "    <tr>\n",
              "      <th>...</th>\n",
              "      <td>...</td>\n",
              "      <td>...</td>\n",
              "    </tr>\n",
              "    <tr>\n",
              "      <th>84</th>\n",
              "      <td>104.0</td>\n",
              "      <td>151.083095</td>\n",
              "    </tr>\n",
              "    <tr>\n",
              "      <th>85</th>\n",
              "      <td>49.0</td>\n",
              "      <td>151.157593</td>\n",
              "    </tr>\n",
              "    <tr>\n",
              "      <th>86</th>\n",
              "      <td>103.0</td>\n",
              "      <td>151.048711</td>\n",
              "    </tr>\n",
              "    <tr>\n",
              "      <th>87</th>\n",
              "      <td>142.0</td>\n",
              "      <td>152.323782</td>\n",
              "    </tr>\n",
              "    <tr>\n",
              "      <th>88</th>\n",
              "      <td>59.0</td>\n",
              "      <td>150.902579</td>\n",
              "    </tr>\n",
              "  </tbody>\n",
              "</table>\n",
              "<p>89 rows × 2 columns</p>\n",
              "</div>\n",
              "      <button class=\"colab-df-convert\" onclick=\"convertToInteractive('df-4c89be8b-7b04-4ea3-93c9-38d00c738963')\"\n",
              "              title=\"Convert this dataframe to an interactive table.\"\n",
              "              style=\"display:none;\">\n",
              "        \n",
              "  <svg xmlns=\"http://www.w3.org/2000/svg\" height=\"24px\"viewBox=\"0 0 24 24\"\n",
              "       width=\"24px\">\n",
              "    <path d=\"M0 0h24v24H0V0z\" fill=\"none\"/>\n",
              "    <path d=\"M18.56 5.44l.94 2.06.94-2.06 2.06-.94-2.06-.94-.94-2.06-.94 2.06-2.06.94zm-11 1L8.5 8.5l.94-2.06 2.06-.94-2.06-.94L8.5 2.5l-.94 2.06-2.06.94zm10 10l.94 2.06.94-2.06 2.06-.94-2.06-.94-.94-2.06-.94 2.06-2.06.94z\"/><path d=\"M17.41 7.96l-1.37-1.37c-.4-.4-.92-.59-1.43-.59-.52 0-1.04.2-1.43.59L10.3 9.45l-7.72 7.72c-.78.78-.78 2.05 0 2.83L4 21.41c.39.39.9.59 1.41.59.51 0 1.02-.2 1.41-.59l7.78-7.78 2.81-2.81c.8-.78.8-2.07 0-2.86zM5.41 20L4 18.59l7.72-7.72 1.47 1.35L5.41 20z\"/>\n",
              "  </svg>\n",
              "      </button>\n",
              "      \n",
              "  <style>\n",
              "    .colab-df-container {\n",
              "      display:flex;\n",
              "      flex-wrap:wrap;\n",
              "      gap: 12px;\n",
              "    }\n",
              "\n",
              "    .colab-df-convert {\n",
              "      background-color: #E8F0FE;\n",
              "      border: none;\n",
              "      border-radius: 50%;\n",
              "      cursor: pointer;\n",
              "      display: none;\n",
              "      fill: #1967D2;\n",
              "      height: 32px;\n",
              "      padding: 0 0 0 0;\n",
              "      width: 32px;\n",
              "    }\n",
              "\n",
              "    .colab-df-convert:hover {\n",
              "      background-color: #E2EBFA;\n",
              "      box-shadow: 0px 1px 2px rgba(60, 64, 67, 0.3), 0px 1px 3px 1px rgba(60, 64, 67, 0.15);\n",
              "      fill: #174EA6;\n",
              "    }\n",
              "\n",
              "    [theme=dark] .colab-df-convert {\n",
              "      background-color: #3B4455;\n",
              "      fill: #D2E3FC;\n",
              "    }\n",
              "\n",
              "    [theme=dark] .colab-df-convert:hover {\n",
              "      background-color: #434B5C;\n",
              "      box-shadow: 0px 1px 3px 1px rgba(0, 0, 0, 0.15);\n",
              "      filter: drop-shadow(0px 1px 2px rgba(0, 0, 0, 0.3));\n",
              "      fill: #FFFFFF;\n",
              "    }\n",
              "  </style>\n",
              "\n",
              "      <script>\n",
              "        const buttonEl =\n",
              "          document.querySelector('#df-4c89be8b-7b04-4ea3-93c9-38d00c738963 button.colab-df-convert');\n",
              "        buttonEl.style.display =\n",
              "          google.colab.kernel.accessAllowed ? 'block' : 'none';\n",
              "\n",
              "        async function convertToInteractive(key) {\n",
              "          const element = document.querySelector('#df-4c89be8b-7b04-4ea3-93c9-38d00c738963');\n",
              "          const dataTable =\n",
              "            await google.colab.kernel.invokeFunction('convertToInteractive',\n",
              "                                                     [key], {});\n",
              "          if (!dataTable) return;\n",
              "\n",
              "          const docLinkHtml = 'Like what you see? Visit the ' +\n",
              "            '<a target=\"_blank\" href=https://colab.research.google.com/notebooks/data_table.ipynb>data table notebook</a>'\n",
              "            + ' to learn more about interactive tables.';\n",
              "          element.innerHTML = '';\n",
              "          dataTable['output_type'] = 'display_data';\n",
              "          await google.colab.output.renderOutput(dataTable, element);\n",
              "          const docLink = document.createElement('div');\n",
              "          docLink.innerHTML = docLinkHtml;\n",
              "          element.appendChild(docLink);\n",
              "        }\n",
              "      </script>\n",
              "    </div>\n",
              "  </div>\n",
              "  "
            ]
          },
          "metadata": {},
          "execution_count": 116
        }
      ]
    },
    {
      "cell_type": "code",
      "source": [
        "# Import Data\n",
        "from google.colab import files\n",
        "files.upload()"
      ],
      "metadata": {
        "id": "NtN_RDRrz5K5",
        "colab": {
          "base_uri": "https://localhost:8080/",
          "height": 128
        },
        "outputId": "60de12ac-f4ae-41ea-bacd-d5e3f988872a"
      },
      "execution_count": null,
      "outputs": [
        {
          "output_type": "display_data",
          "data": {
            "text/plain": [
              "<IPython.core.display.HTML object>"
            ],
            "text/html": [
              "\n",
              "     <input type=\"file\" id=\"files-61776e0d-e998-4cb9-957e-8aea5c874a6b\" name=\"files[]\" multiple disabled\n",
              "        style=\"border:none\" />\n",
              "     <output id=\"result-61776e0d-e998-4cb9-957e-8aea5c874a6b\">\n",
              "      Upload widget is only available when the cell has been executed in the\n",
              "      current browser session. Please rerun this cell to enable.\n",
              "      </output>\n",
              "      <script>// Copyright 2017 Google LLC\n",
              "//\n",
              "// Licensed under the Apache License, Version 2.0 (the \"License\");\n",
              "// you may not use this file except in compliance with the License.\n",
              "// You may obtain a copy of the License at\n",
              "//\n",
              "//      http://www.apache.org/licenses/LICENSE-2.0\n",
              "//\n",
              "// Unless required by applicable law or agreed to in writing, software\n",
              "// distributed under the License is distributed on an \"AS IS\" BASIS,\n",
              "// WITHOUT WARRANTIES OR CONDITIONS OF ANY KIND, either express or implied.\n",
              "// See the License for the specific language governing permissions and\n",
              "// limitations under the License.\n",
              "\n",
              "/**\n",
              " * @fileoverview Helpers for google.colab Python module.\n",
              " */\n",
              "(function(scope) {\n",
              "function span(text, styleAttributes = {}) {\n",
              "  const element = document.createElement('span');\n",
              "  element.textContent = text;\n",
              "  for (const key of Object.keys(styleAttributes)) {\n",
              "    element.style[key] = styleAttributes[key];\n",
              "  }\n",
              "  return element;\n",
              "}\n",
              "\n",
              "// Max number of bytes which will be uploaded at a time.\n",
              "const MAX_PAYLOAD_SIZE = 100 * 1024;\n",
              "\n",
              "function _uploadFiles(inputId, outputId) {\n",
              "  const steps = uploadFilesStep(inputId, outputId);\n",
              "  const outputElement = document.getElementById(outputId);\n",
              "  // Cache steps on the outputElement to make it available for the next call\n",
              "  // to uploadFilesContinue from Python.\n",
              "  outputElement.steps = steps;\n",
              "\n",
              "  return _uploadFilesContinue(outputId);\n",
              "}\n",
              "\n",
              "// This is roughly an async generator (not supported in the browser yet),\n",
              "// where there are multiple asynchronous steps and the Python side is going\n",
              "// to poll for completion of each step.\n",
              "// This uses a Promise to block the python side on completion of each step,\n",
              "// then passes the result of the previous step as the input to the next step.\n",
              "function _uploadFilesContinue(outputId) {\n",
              "  const outputElement = document.getElementById(outputId);\n",
              "  const steps = outputElement.steps;\n",
              "\n",
              "  const next = steps.next(outputElement.lastPromiseValue);\n",
              "  return Promise.resolve(next.value.promise).then((value) => {\n",
              "    // Cache the last promise value to make it available to the next\n",
              "    // step of the generator.\n",
              "    outputElement.lastPromiseValue = value;\n",
              "    return next.value.response;\n",
              "  });\n",
              "}\n",
              "\n",
              "/**\n",
              " * Generator function which is called between each async step of the upload\n",
              " * process.\n",
              " * @param {string} inputId Element ID of the input file picker element.\n",
              " * @param {string} outputId Element ID of the output display.\n",
              " * @return {!Iterable<!Object>} Iterable of next steps.\n",
              " */\n",
              "function* uploadFilesStep(inputId, outputId) {\n",
              "  const inputElement = document.getElementById(inputId);\n",
              "  inputElement.disabled = false;\n",
              "\n",
              "  const outputElement = document.getElementById(outputId);\n",
              "  outputElement.innerHTML = '';\n",
              "\n",
              "  const pickedPromise = new Promise((resolve) => {\n",
              "    inputElement.addEventListener('change', (e) => {\n",
              "      resolve(e.target.files);\n",
              "    });\n",
              "  });\n",
              "\n",
              "  const cancel = document.createElement('button');\n",
              "  inputElement.parentElement.appendChild(cancel);\n",
              "  cancel.textContent = 'Cancel upload';\n",
              "  const cancelPromise = new Promise((resolve) => {\n",
              "    cancel.onclick = () => {\n",
              "      resolve(null);\n",
              "    };\n",
              "  });\n",
              "\n",
              "  // Wait for the user to pick the files.\n",
              "  const files = yield {\n",
              "    promise: Promise.race([pickedPromise, cancelPromise]),\n",
              "    response: {\n",
              "      action: 'starting',\n",
              "    }\n",
              "  };\n",
              "\n",
              "  cancel.remove();\n",
              "\n",
              "  // Disable the input element since further picks are not allowed.\n",
              "  inputElement.disabled = true;\n",
              "\n",
              "  if (!files) {\n",
              "    return {\n",
              "      response: {\n",
              "        action: 'complete',\n",
              "      }\n",
              "    };\n",
              "  }\n",
              "\n",
              "  for (const file of files) {\n",
              "    const li = document.createElement('li');\n",
              "    li.append(span(file.name, {fontWeight: 'bold'}));\n",
              "    li.append(span(\n",
              "        `(${file.type || 'n/a'}) - ${file.size} bytes, ` +\n",
              "        `last modified: ${\n",
              "            file.lastModifiedDate ? file.lastModifiedDate.toLocaleDateString() :\n",
              "                                    'n/a'} - `));\n",
              "    const percent = span('0% done');\n",
              "    li.appendChild(percent);\n",
              "\n",
              "    outputElement.appendChild(li);\n",
              "\n",
              "    const fileDataPromise = new Promise((resolve) => {\n",
              "      const reader = new FileReader();\n",
              "      reader.onload = (e) => {\n",
              "        resolve(e.target.result);\n",
              "      };\n",
              "      reader.readAsArrayBuffer(file);\n",
              "    });\n",
              "    // Wait for the data to be ready.\n",
              "    let fileData = yield {\n",
              "      promise: fileDataPromise,\n",
              "      response: {\n",
              "        action: 'continue',\n",
              "      }\n",
              "    };\n",
              "\n",
              "    // Use a chunked sending to avoid message size limits. See b/62115660.\n",
              "    let position = 0;\n",
              "    do {\n",
              "      const length = Math.min(fileData.byteLength - position, MAX_PAYLOAD_SIZE);\n",
              "      const chunk = new Uint8Array(fileData, position, length);\n",
              "      position += length;\n",
              "\n",
              "      const base64 = btoa(String.fromCharCode.apply(null, chunk));\n",
              "      yield {\n",
              "        response: {\n",
              "          action: 'append',\n",
              "          file: file.name,\n",
              "          data: base64,\n",
              "        },\n",
              "      };\n",
              "\n",
              "      let percentDone = fileData.byteLength === 0 ?\n",
              "          100 :\n",
              "          Math.round((position / fileData.byteLength) * 100);\n",
              "      percent.textContent = `${percentDone}% done`;\n",
              "\n",
              "    } while (position < fileData.byteLength);\n",
              "  }\n",
              "\n",
              "  // All done.\n",
              "  yield {\n",
              "    response: {\n",
              "      action: 'complete',\n",
              "    }\n",
              "  };\n",
              "}\n",
              "\n",
              "scope.google = scope.google || {};\n",
              "scope.google.colab = scope.google.colab || {};\n",
              "scope.google.colab._files = {\n",
              "  _uploadFiles,\n",
              "  _uploadFilesContinue,\n",
              "};\n",
              "})(self);\n",
              "</script> "
            ]
          },
          "metadata": {}
        },
        {
          "output_type": "stream",
          "name": "stdout",
          "text": [
            "Saving Social_Network_Ads.csv to Social_Network_Ads.csv\n"
          ]
        },
        {
          "output_type": "execute_result",
          "data": {
            "text/plain": [
              "{'Social_Network_Ads.csv': b'User ID,Gender,Age,EstimatedSalary,Purchased\\r\\n15624510,Male,19,19000,0\\r\\n15810944,Male,35,20000,0\\r\\n15668575,Female,26,43000,0\\r\\n15603246,Female,27,57000,0\\r\\n15804002,Male,19,76000,0\\r\\n15728773,Male,27,58000,0\\r\\n15598044,Female,27,84000,0\\r\\n15694829,Female,32,150000,1\\r\\n15600575,Male,25,33000,0\\r\\n15727311,Female,35,65000,0\\r\\n15570769,Female,26,80000,0\\r\\n15606274,Female,26,52000,0\\r\\n15746139,Male,20,86000,0\\r\\n15704987,Male,32,18000,0\\r\\n15628972,Male,18,82000,0\\r\\n15697686,Male,29,80000,0\\r\\n15733883,Male,47,25000,1\\r\\n15617482,Male,45,26000,1\\r\\n15704583,Male,46,28000,1\\r\\n15621083,Female,48,29000,1\\r\\n15649487,Male,45,22000,1\\r\\n15736760,Female,47,49000,1\\r\\n15714658,Male,48,41000,1\\r\\n15599081,Female,45,22000,1\\r\\n15705113,Male,46,23000,1\\r\\n15631159,Male,47,20000,1\\r\\n15792818,Male,49,28000,1\\r\\n15633531,Female,47,30000,1\\r\\n15744529,Male,29,43000,0\\r\\n15669656,Male,31,18000,0\\r\\n15581198,Male,31,74000,0\\r\\n15729054,Female,27,137000,1\\r\\n15573452,Female,21,16000,0\\r\\n15776733,Female,28,44000,0\\r\\n15724858,Male,27,90000,0\\r\\n15713144,Male,35,27000,0\\r\\n15690188,Female,33,28000,0\\r\\n15689425,Male,30,49000,0\\r\\n15671766,Female,26,72000,0\\r\\n15782806,Female,27,31000,0\\r\\n15764419,Female,27,17000,0\\r\\n15591915,Female,33,51000,0\\r\\n15772798,Male,35,108000,0\\r\\n15792008,Male,30,15000,0\\r\\n15715541,Female,28,84000,0\\r\\n15639277,Male,23,20000,0\\r\\n15798850,Male,25,79000,0\\r\\n15776348,Female,27,54000,0\\r\\n15727696,Male,30,135000,1\\r\\n15793813,Female,31,89000,0\\r\\n15694395,Female,24,32000,0\\r\\n15764195,Female,18,44000,0\\r\\n15744919,Female,29,83000,0\\r\\n15671655,Female,35,23000,0\\r\\n15654901,Female,27,58000,0\\r\\n15649136,Female,24,55000,0\\r\\n15775562,Female,23,48000,0\\r\\n15807481,Male,28,79000,0\\r\\n15642885,Male,22,18000,0\\r\\n15789109,Female,32,117000,0\\r\\n15814004,Male,27,20000,0\\r\\n15673619,Male,25,87000,0\\r\\n15595135,Female,23,66000,0\\r\\n15583681,Male,32,120000,1\\r\\n15605000,Female,59,83000,0\\r\\n15718071,Male,24,58000,0\\r\\n15679760,Male,24,19000,0\\r\\n15654574,Female,23,82000,0\\r\\n15577178,Female,22,63000,0\\r\\n15595324,Female,31,68000,0\\r\\n15756932,Male,25,80000,0\\r\\n15726358,Female,24,27000,0\\r\\n15595228,Female,20,23000,0\\r\\n15782530,Female,33,113000,0\\r\\n15592877,Male,32,18000,0\\r\\n15651983,Male,34,112000,1\\r\\n15746737,Male,18,52000,0\\r\\n15774179,Female,22,27000,0\\r\\n15667265,Female,28,87000,0\\r\\n15655123,Female,26,17000,0\\r\\n15595917,Male,30,80000,0\\r\\n15668385,Male,39,42000,0\\r\\n15709476,Male,20,49000,0\\r\\n15711218,Male,35,88000,0\\r\\n15798659,Female,30,62000,0\\r\\n15663939,Female,31,118000,1\\r\\n15694946,Male,24,55000,0\\r\\n15631912,Female,28,85000,0\\r\\n15768816,Male,26,81000,0\\r\\n15682268,Male,35,50000,0\\r\\n15684801,Male,22,81000,0\\r\\n15636428,Female,30,116000,0\\r\\n15809823,Male,26,15000,0\\r\\n15699284,Female,29,28000,0\\r\\n15786993,Female,29,83000,0\\r\\n15709441,Female,35,44000,0\\r\\n15710257,Female,35,25000,0\\r\\n15582492,Male,28,123000,1\\r\\n15575694,Male,35,73000,0\\r\\n15756820,Female,28,37000,0\\r\\n15766289,Male,27,88000,0\\r\\n15593014,Male,28,59000,0\\r\\n15584545,Female,32,86000,0\\r\\n15675949,Female,33,149000,1\\r\\n15672091,Female,19,21000,0\\r\\n15801658,Male,21,72000,0\\r\\n15706185,Female,26,35000,0\\r\\n15789863,Male,27,89000,0\\r\\n15720943,Male,26,86000,0\\r\\n15697997,Female,38,80000,0\\r\\n15665416,Female,39,71000,0\\r\\n15660200,Female,37,71000,0\\r\\n15619653,Male,38,61000,0\\r\\n15773447,Male,37,55000,0\\r\\n15739160,Male,42,80000,0\\r\\n15689237,Male,40,57000,0\\r\\n15679297,Male,35,75000,0\\r\\n15591433,Male,36,52000,0\\r\\n15642725,Male,40,59000,0\\r\\n15701962,Male,41,59000,0\\r\\n15811613,Female,36,75000,0\\r\\n15741049,Male,37,72000,0\\r\\n15724423,Female,40,75000,0\\r\\n15574305,Male,35,53000,0\\r\\n15678168,Female,41,51000,0\\r\\n15697020,Female,39,61000,0\\r\\n15610801,Male,42,65000,0\\r\\n15745232,Male,26,32000,0\\r\\n15722758,Male,30,17000,0\\r\\n15792102,Female,26,84000,0\\r\\n15675185,Male,31,58000,0\\r\\n15801247,Male,33,31000,0\\r\\n15725660,Male,30,87000,0\\r\\n15638963,Female,21,68000,0\\r\\n15800061,Female,28,55000,0\\r\\n15578006,Male,23,63000,0\\r\\n15668504,Female,20,82000,0\\r\\n15687491,Male,30,107000,1\\r\\n15610403,Female,28,59000,0\\r\\n15741094,Male,19,25000,0\\r\\n15807909,Male,19,85000,0\\r\\n15666141,Female,18,68000,0\\r\\n15617134,Male,35,59000,0\\r\\n15783029,Male,30,89000,0\\r\\n15622833,Female,34,25000,0\\r\\n15746422,Female,24,89000,0\\r\\n15750839,Female,27,96000,1\\r\\n15749130,Female,41,30000,0\\r\\n15779862,Male,29,61000,0\\r\\n15767871,Male,20,74000,0\\r\\n15679651,Female,26,15000,0\\r\\n15576219,Male,41,45000,0\\r\\n15699247,Male,31,76000,0\\r\\n15619087,Female,36,50000,0\\r\\n15605327,Male,40,47000,0\\r\\n15610140,Female,31,15000,0\\r\\n15791174,Male,46,59000,0\\r\\n15602373,Male,29,75000,0\\r\\n15762605,Male,26,30000,0\\r\\n15598840,Female,32,135000,1\\r\\n15744279,Male,32,100000,1\\r\\n15670619,Male,25,90000,0\\r\\n15599533,Female,37,33000,0\\r\\n15757837,Male,35,38000,0\\r\\n15697574,Female,33,69000,0\\r\\n15578738,Female,18,86000,0\\r\\n15762228,Female,22,55000,0\\r\\n15614827,Female,35,71000,0\\r\\n15789815,Male,29,148000,1\\r\\n15579781,Female,29,47000,0\\r\\n15587013,Male,21,88000,0\\r\\n15570932,Male,34,115000,0\\r\\n15794661,Female,26,118000,0\\r\\n15581654,Female,34,43000,0\\r\\n15644296,Female,34,72000,0\\r\\n15614420,Female,23,28000,0\\r\\n15609653,Female,35,47000,0\\r\\n15594577,Male,25,22000,0\\r\\n15584114,Male,24,23000,0\\r\\n15673367,Female,31,34000,0\\r\\n15685576,Male,26,16000,0\\r\\n15774727,Female,31,71000,0\\r\\n15694288,Female,32,117000,1\\r\\n15603319,Male,33,43000,0\\r\\n15759066,Female,33,60000,0\\r\\n15814816,Male,31,66000,0\\r\\n15724402,Female,20,82000,0\\r\\n15571059,Female,33,41000,0\\r\\n15674206,Male,35,72000,0\\r\\n15715160,Male,28,32000,0\\r\\n15730448,Male,24,84000,0\\r\\n15662067,Female,19,26000,0\\r\\n15779581,Male,29,43000,0\\r\\n15662901,Male,19,70000,0\\r\\n15689751,Male,28,89000,0\\r\\n15667742,Male,34,43000,0\\r\\n15738448,Female,30,79000,0\\r\\n15680243,Female,20,36000,0\\r\\n15745083,Male,26,80000,0\\r\\n15708228,Male,35,22000,0\\r\\n15628523,Male,35,39000,0\\r\\n15708196,Male,49,74000,0\\r\\n15735549,Female,39,134000,1\\r\\n15809347,Female,41,71000,0\\r\\n15660866,Female,58,101000,1\\r\\n15766609,Female,47,47000,0\\r\\n15654230,Female,55,130000,1\\r\\n15794566,Female,52,114000,0\\r\\n15800890,Female,40,142000,1\\r\\n15697424,Female,46,22000,0\\r\\n15724536,Female,48,96000,1\\r\\n15735878,Male,52,150000,1\\r\\n15707596,Female,59,42000,0\\r\\n15657163,Male,35,58000,0\\r\\n15622478,Male,47,43000,0\\r\\n15779529,Female,60,108000,1\\r\\n15636023,Male,49,65000,0\\r\\n15582066,Male,40,78000,0\\r\\n15666675,Female,46,96000,0\\r\\n15732987,Male,59,143000,1\\r\\n15789432,Female,41,80000,0\\r\\n15663161,Male,35,91000,1\\r\\n15694879,Male,37,144000,1\\r\\n15593715,Male,60,102000,1\\r\\n15575002,Female,35,60000,0\\r\\n15622171,Male,37,53000,0\\r\\n15795224,Female,36,126000,1\\r\\n15685346,Male,56,133000,1\\r\\n15691808,Female,40,72000,0\\r\\n15721007,Female,42,80000,1\\r\\n15794253,Female,35,147000,1\\r\\n15694453,Male,39,42000,0\\r\\n15813113,Male,40,107000,1\\r\\n15614187,Male,49,86000,1\\r\\n15619407,Female,38,112000,0\\r\\n15646227,Male,46,79000,1\\r\\n15660541,Male,40,57000,0\\r\\n15753874,Female,37,80000,0\\r\\n15617877,Female,46,82000,0\\r\\n15772073,Female,53,143000,1\\r\\n15701537,Male,42,149000,1\\r\\n15736228,Male,38,59000,0\\r\\n15780572,Female,50,88000,1\\r\\n15769596,Female,56,104000,1\\r\\n15586996,Female,41,72000,0\\r\\n15722061,Female,51,146000,1\\r\\n15638003,Female,35,50000,0\\r\\n15775590,Female,57,122000,1\\r\\n15730688,Male,41,52000,0\\r\\n15753102,Female,35,97000,1\\r\\n15810075,Female,44,39000,0\\r\\n15723373,Male,37,52000,0\\r\\n15795298,Female,48,134000,1\\r\\n15584320,Female,37,146000,1\\r\\n15724161,Female,50,44000,0\\r\\n15750056,Female,52,90000,1\\r\\n15609637,Female,41,72000,0\\r\\n15794493,Male,40,57000,0\\r\\n15569641,Female,58,95000,1\\r\\n15815236,Female,45,131000,1\\r\\n15811177,Female,35,77000,0\\r\\n15680587,Male,36,144000,1\\r\\n15672821,Female,55,125000,1\\r\\n15767681,Female,35,72000,0\\r\\n15600379,Male,48,90000,1\\r\\n15801336,Female,42,108000,1\\r\\n15721592,Male,40,75000,0\\r\\n15581282,Male,37,74000,0\\r\\n15746203,Female,47,144000,1\\r\\n15583137,Male,40,61000,0\\r\\n15680752,Female,43,133000,0\\r\\n15688172,Female,59,76000,1\\r\\n15791373,Male,60,42000,1\\r\\n15589449,Male,39,106000,1\\r\\n15692819,Female,57,26000,1\\r\\n15727467,Male,57,74000,1\\r\\n15734312,Male,38,71000,0\\r\\n15764604,Male,49,88000,1\\r\\n15613014,Female,52,38000,1\\r\\n15759684,Female,50,36000,1\\r\\n15609669,Female,59,88000,1\\r\\n15685536,Male,35,61000,0\\r\\n15750447,Male,37,70000,1\\r\\n15663249,Female,52,21000,1\\r\\n15638646,Male,48,141000,0\\r\\n15734161,Female,37,93000,1\\r\\n15631070,Female,37,62000,0\\r\\n15761950,Female,48,138000,1\\r\\n15649668,Male,41,79000,0\\r\\n15713912,Female,37,78000,1\\r\\n15586757,Male,39,134000,1\\r\\n15596522,Male,49,89000,1\\r\\n15625395,Male,55,39000,1\\r\\n15760570,Male,37,77000,0\\r\\n15566689,Female,35,57000,0\\r\\n15725794,Female,36,63000,0\\r\\n15673539,Male,42,73000,1\\r\\n15705298,Female,43,112000,1\\r\\n15675791,Male,45,79000,0\\r\\n15747043,Male,46,117000,1\\r\\n15736397,Female,58,38000,1\\r\\n15678201,Male,48,74000,1\\r\\n15720745,Female,37,137000,1\\r\\n15637593,Male,37,79000,1\\r\\n15598070,Female,40,60000,0\\r\\n15787550,Male,42,54000,0\\r\\n15603942,Female,51,134000,0\\r\\n15733973,Female,47,113000,1\\r\\n15596761,Male,36,125000,1\\r\\n15652400,Female,38,50000,0\\r\\n15717893,Female,42,70000,0\\r\\n15622585,Male,39,96000,1\\r\\n15733964,Female,38,50000,0\\r\\n15753861,Female,49,141000,1\\r\\n15747097,Female,39,79000,0\\r\\n15594762,Female,39,75000,1\\r\\n15667417,Female,54,104000,1\\r\\n15684861,Male,35,55000,0\\r\\n15742204,Male,45,32000,1\\r\\n15623502,Male,36,60000,0\\r\\n15774872,Female,52,138000,1\\r\\n15611191,Female,53,82000,1\\r\\n15674331,Male,41,52000,0\\r\\n15619465,Female,48,30000,1\\r\\n15575247,Female,48,131000,1\\r\\n15695679,Female,41,60000,0\\r\\n15713463,Male,41,72000,0\\r\\n15785170,Female,42,75000,0\\r\\n15796351,Male,36,118000,1\\r\\n15639576,Female,47,107000,1\\r\\n15693264,Male,38,51000,0\\r\\n15589715,Female,48,119000,1\\r\\n15769902,Male,42,65000,0\\r\\n15587177,Male,40,65000,0\\r\\n15814553,Male,57,60000,1\\r\\n15601550,Female,36,54000,0\\r\\n15664907,Male,58,144000,1\\r\\n15612465,Male,35,79000,0\\r\\n15810800,Female,38,55000,0\\r\\n15665760,Male,39,122000,1\\r\\n15588080,Female,53,104000,1\\r\\n15776844,Male,35,75000,0\\r\\n15717560,Female,38,65000,0\\r\\n15629739,Female,47,51000,1\\r\\n15729908,Male,47,105000,1\\r\\n15716781,Female,41,63000,0\\r\\n15646936,Male,53,72000,1\\r\\n15768151,Female,54,108000,1\\r\\n15579212,Male,39,77000,0\\r\\n15721835,Male,38,61000,0\\r\\n15800515,Female,38,113000,1\\r\\n15591279,Male,37,75000,0\\r\\n15587419,Female,42,90000,1\\r\\n15750335,Female,37,57000,0\\r\\n15699619,Male,36,99000,1\\r\\n15606472,Male,60,34000,1\\r\\n15778368,Male,54,70000,1\\r\\n15671387,Female,41,72000,0\\r\\n15573926,Male,40,71000,1\\r\\n15709183,Male,42,54000,0\\r\\n15577514,Male,43,129000,1\\r\\n15778830,Female,53,34000,1\\r\\n15768072,Female,47,50000,1\\r\\n15768293,Female,42,79000,0\\r\\n15654456,Male,42,104000,1\\r\\n15807525,Female,59,29000,1\\r\\n15574372,Female,58,47000,1\\r\\n15671249,Male,46,88000,1\\r\\n15779744,Male,38,71000,0\\r\\n15624755,Female,54,26000,1\\r\\n15611430,Female,60,46000,1\\r\\n15774744,Male,60,83000,1\\r\\n15629885,Female,39,73000,0\\r\\n15708791,Male,59,130000,1\\r\\n15793890,Female,37,80000,0\\r\\n15646091,Female,46,32000,1\\r\\n15596984,Female,46,74000,0\\r\\n15800215,Female,42,53000,0\\r\\n15577806,Male,41,87000,1\\r\\n15749381,Female,58,23000,1\\r\\n15683758,Male,42,64000,0\\r\\n15670615,Male,48,33000,1\\r\\n15715622,Female,44,139000,1\\r\\n15707634,Male,49,28000,1\\r\\n15806901,Female,57,33000,1\\r\\n15775335,Male,56,60000,1\\r\\n15724150,Female,49,39000,1\\r\\n15627220,Male,39,71000,0\\r\\n15672330,Male,47,34000,1\\r\\n15668521,Female,48,35000,1\\r\\n15807837,Male,48,33000,1\\r\\n15592570,Male,47,23000,1\\r\\n15748589,Female,45,45000,1\\r\\n15635893,Male,60,42000,1\\r\\n15757632,Female,39,59000,0\\r\\n15691863,Female,46,41000,1\\r\\n15706071,Male,51,23000,1\\r\\n15654296,Female,50,20000,1\\r\\n15755018,Male,36,33000,0\\r\\n15594041,Female,49,36000,1'}"
            ]
          },
          "metadata": {},
          "execution_count": 2
        }
      ]
    },
    {
      "cell_type": "code",
      "source": [
        "import pandas as pd\n",
        "import numpy as np "
      ],
      "metadata": {
        "id": "sqdBlYtqhnNz"
      },
      "execution_count": null,
      "outputs": []
    },
    {
      "cell_type": "code",
      "source": [
        "df = pd.read_csv(\"Social_Network_Ads.csv\")"
      ],
      "metadata": {
        "id": "HPH_Jn8_h0f1"
      },
      "execution_count": null,
      "outputs": []
    },
    {
      "cell_type": "code",
      "source": [
        "df.head()"
      ],
      "metadata": {
        "colab": {
          "base_uri": "https://localhost:8080/",
          "height": 206
        },
        "id": "8TIlexq1h2qT",
        "outputId": "c22caf76-02d1-4f4b-bf8c-c5ec2a1d48fd"
      },
      "execution_count": null,
      "outputs": [
        {
          "output_type": "execute_result",
          "data": {
            "text/plain": [
              "    User ID  Gender  Age  EstimatedSalary  Purchased\n",
              "0  15624510    Male   19            19000          0\n",
              "1  15810944    Male   35            20000          0\n",
              "2  15668575  Female   26            43000          0\n",
              "3  15603246  Female   27            57000          0\n",
              "4  15804002    Male   19            76000          0"
            ],
            "text/html": [
              "\n",
              "  <div id=\"df-62d91e07-6b46-4723-acd2-7d01e448f093\">\n",
              "    <div class=\"colab-df-container\">\n",
              "      <div>\n",
              "<style scoped>\n",
              "    .dataframe tbody tr th:only-of-type {\n",
              "        vertical-align: middle;\n",
              "    }\n",
              "\n",
              "    .dataframe tbody tr th {\n",
              "        vertical-align: top;\n",
              "    }\n",
              "\n",
              "    .dataframe thead th {\n",
              "        text-align: right;\n",
              "    }\n",
              "</style>\n",
              "<table border=\"1\" class=\"dataframe\">\n",
              "  <thead>\n",
              "    <tr style=\"text-align: right;\">\n",
              "      <th></th>\n",
              "      <th>User ID</th>\n",
              "      <th>Gender</th>\n",
              "      <th>Age</th>\n",
              "      <th>EstimatedSalary</th>\n",
              "      <th>Purchased</th>\n",
              "    </tr>\n",
              "  </thead>\n",
              "  <tbody>\n",
              "    <tr>\n",
              "      <th>0</th>\n",
              "      <td>15624510</td>\n",
              "      <td>Male</td>\n",
              "      <td>19</td>\n",
              "      <td>19000</td>\n",
              "      <td>0</td>\n",
              "    </tr>\n",
              "    <tr>\n",
              "      <th>1</th>\n",
              "      <td>15810944</td>\n",
              "      <td>Male</td>\n",
              "      <td>35</td>\n",
              "      <td>20000</td>\n",
              "      <td>0</td>\n",
              "    </tr>\n",
              "    <tr>\n",
              "      <th>2</th>\n",
              "      <td>15668575</td>\n",
              "      <td>Female</td>\n",
              "      <td>26</td>\n",
              "      <td>43000</td>\n",
              "      <td>0</td>\n",
              "    </tr>\n",
              "    <tr>\n",
              "      <th>3</th>\n",
              "      <td>15603246</td>\n",
              "      <td>Female</td>\n",
              "      <td>27</td>\n",
              "      <td>57000</td>\n",
              "      <td>0</td>\n",
              "    </tr>\n",
              "    <tr>\n",
              "      <th>4</th>\n",
              "      <td>15804002</td>\n",
              "      <td>Male</td>\n",
              "      <td>19</td>\n",
              "      <td>76000</td>\n",
              "      <td>0</td>\n",
              "    </tr>\n",
              "  </tbody>\n",
              "</table>\n",
              "</div>\n",
              "      <button class=\"colab-df-convert\" onclick=\"convertToInteractive('df-62d91e07-6b46-4723-acd2-7d01e448f093')\"\n",
              "              title=\"Convert this dataframe to an interactive table.\"\n",
              "              style=\"display:none;\">\n",
              "        \n",
              "  <svg xmlns=\"http://www.w3.org/2000/svg\" height=\"24px\"viewBox=\"0 0 24 24\"\n",
              "       width=\"24px\">\n",
              "    <path d=\"M0 0h24v24H0V0z\" fill=\"none\"/>\n",
              "    <path d=\"M18.56 5.44l.94 2.06.94-2.06 2.06-.94-2.06-.94-.94-2.06-.94 2.06-2.06.94zm-11 1L8.5 8.5l.94-2.06 2.06-.94-2.06-.94L8.5 2.5l-.94 2.06-2.06.94zm10 10l.94 2.06.94-2.06 2.06-.94-2.06-.94-.94-2.06-.94 2.06-2.06.94z\"/><path d=\"M17.41 7.96l-1.37-1.37c-.4-.4-.92-.59-1.43-.59-.52 0-1.04.2-1.43.59L10.3 9.45l-7.72 7.72c-.78.78-.78 2.05 0 2.83L4 21.41c.39.39.9.59 1.41.59.51 0 1.02-.2 1.41-.59l7.78-7.78 2.81-2.81c.8-.78.8-2.07 0-2.86zM5.41 20L4 18.59l7.72-7.72 1.47 1.35L5.41 20z\"/>\n",
              "  </svg>\n",
              "      </button>\n",
              "      \n",
              "  <style>\n",
              "    .colab-df-container {\n",
              "      display:flex;\n",
              "      flex-wrap:wrap;\n",
              "      gap: 12px;\n",
              "    }\n",
              "\n",
              "    .colab-df-convert {\n",
              "      background-color: #E8F0FE;\n",
              "      border: none;\n",
              "      border-radius: 50%;\n",
              "      cursor: pointer;\n",
              "      display: none;\n",
              "      fill: #1967D2;\n",
              "      height: 32px;\n",
              "      padding: 0 0 0 0;\n",
              "      width: 32px;\n",
              "    }\n",
              "\n",
              "    .colab-df-convert:hover {\n",
              "      background-color: #E2EBFA;\n",
              "      box-shadow: 0px 1px 2px rgba(60, 64, 67, 0.3), 0px 1px 3px 1px rgba(60, 64, 67, 0.15);\n",
              "      fill: #174EA6;\n",
              "    }\n",
              "\n",
              "    [theme=dark] .colab-df-convert {\n",
              "      background-color: #3B4455;\n",
              "      fill: #D2E3FC;\n",
              "    }\n",
              "\n",
              "    [theme=dark] .colab-df-convert:hover {\n",
              "      background-color: #434B5C;\n",
              "      box-shadow: 0px 1px 3px 1px rgba(0, 0, 0, 0.15);\n",
              "      filter: drop-shadow(0px 1px 2px rgba(0, 0, 0, 0.3));\n",
              "      fill: #FFFFFF;\n",
              "    }\n",
              "  </style>\n",
              "\n",
              "      <script>\n",
              "        const buttonEl =\n",
              "          document.querySelector('#df-62d91e07-6b46-4723-acd2-7d01e448f093 button.colab-df-convert');\n",
              "        buttonEl.style.display =\n",
              "          google.colab.kernel.accessAllowed ? 'block' : 'none';\n",
              "\n",
              "        async function convertToInteractive(key) {\n",
              "          const element = document.querySelector('#df-62d91e07-6b46-4723-acd2-7d01e448f093');\n",
              "          const dataTable =\n",
              "            await google.colab.kernel.invokeFunction('convertToInteractive',\n",
              "                                                     [key], {});\n",
              "          if (!dataTable) return;\n",
              "\n",
              "          const docLinkHtml = 'Like what you see? Visit the ' +\n",
              "            '<a target=\"_blank\" href=https://colab.research.google.com/notebooks/data_table.ipynb>data table notebook</a>'\n",
              "            + ' to learn more about interactive tables.';\n",
              "          element.innerHTML = '';\n",
              "          dataTable['output_type'] = 'display_data';\n",
              "          await google.colab.output.renderOutput(dataTable, element);\n",
              "          const docLink = document.createElement('div');\n",
              "          docLink.innerHTML = docLinkHtml;\n",
              "          element.appendChild(docLink);\n",
              "        }\n",
              "      </script>\n",
              "    </div>\n",
              "  </div>\n",
              "  "
            ]
          },
          "metadata": {},
          "execution_count": 5
        }
      ]
    },
    {
      "cell_type": "code",
      "source": [
        "df_new = df.drop(['User ID',\t'Gender'], axis=1)"
      ],
      "metadata": {
        "id": "6CKni2ich3so"
      },
      "execution_count": null,
      "outputs": []
    },
    {
      "cell_type": "code",
      "source": [
        "X = df_new[['Age',\t'EstimatedSalary']]\n",
        "y = df_new['Purchased']"
      ],
      "metadata": {
        "id": "bphCmj8xiEiN"
      },
      "execution_count": null,
      "outputs": []
    },
    {
      "cell_type": "code",
      "source": [
        "from sklearn.model_selection import train_test_split\n",
        "X_train, X_test, y_train, y_test = train_test_split(X, y, test_size = 0.2, random_state = 0, stratify = y)"
      ],
      "metadata": {
        "id": "AAIwqxySiXgw"
      },
      "execution_count": null,
      "outputs": []
    },
    {
      "cell_type": "code",
      "source": [
        "from sklearn.neighbors import KNeighborsClassifier\n",
        "model = KNeighborsClassifier()"
      ],
      "metadata": {
        "id": "wXUH3oz6iFgx"
      },
      "execution_count": null,
      "outputs": []
    },
    {
      "cell_type": "code",
      "source": [
        "model.fit(X_train, y_train)\n",
        "model.score(X_test, y_test)"
      ],
      "metadata": {
        "colab": {
          "base_uri": "https://localhost:8080/"
        },
        "id": "CbiR5qNOjQXL",
        "outputId": "539b694e-b5ab-47dd-c79e-3c97b737dff4"
      },
      "execution_count": null,
      "outputs": [
        {
          "output_type": "execute_result",
          "data": {
            "text/plain": [
              "0.825"
            ]
          },
          "metadata": {},
          "execution_count": 12
        }
      ]
    },
    {
      "cell_type": "code",
      "source": [
        "from sklearn.preprocessing import MinMaxScaler\n",
        "mms = MinMaxScaler()"
      ],
      "metadata": {
        "id": "-48miEivjVio"
      },
      "execution_count": null,
      "outputs": []
    },
    {
      "cell_type": "code",
      "source": [
        "help(MinMaxScaler)"
      ],
      "metadata": {
        "id": "lRH-vfXHoLYa",
        "outputId": "56d90c03-71b2-4d60-bddf-356073d46544",
        "colab": {
          "base_uri": "https://localhost:8080/"
        }
      },
      "execution_count": null,
      "outputs": [
        {
          "output_type": "stream",
          "name": "stdout",
          "text": [
            "Help on class MinMaxScaler in module sklearn.preprocessing._data:\n",
            "\n",
            "class MinMaxScaler(sklearn.base._OneToOneFeatureMixin, sklearn.base.TransformerMixin, sklearn.base.BaseEstimator)\n",
            " |  MinMaxScaler(feature_range=(0, 1), *, copy=True, clip=False)\n",
            " |  \n",
            " |  Transform features by scaling each feature to a given range.\n",
            " |  \n",
            " |  This estimator scales and translates each feature individually such\n",
            " |  that it is in the given range on the training set, e.g. between\n",
            " |  zero and one.\n",
            " |  \n",
            " |  The transformation is given by::\n",
            " |  \n",
            " |      X_std = (X - X.min(axis=0)) / (X.max(axis=0) - X.min(axis=0))\n",
            " |      X_scaled = X_std * (max - min) + min\n",
            " |  \n",
            " |  where min, max = feature_range.\n",
            " |  \n",
            " |  This transformation is often used as an alternative to zero mean,\n",
            " |  unit variance scaling.\n",
            " |  \n",
            " |  Read more in the :ref:`User Guide <preprocessing_scaler>`.\n",
            " |  \n",
            " |  Parameters\n",
            " |  ----------\n",
            " |  feature_range : tuple (min, max), default=(0, 1)\n",
            " |      Desired range of transformed data.\n",
            " |  \n",
            " |  copy : bool, default=True\n",
            " |      Set to False to perform inplace row normalization and avoid a\n",
            " |      copy (if the input is already a numpy array).\n",
            " |  \n",
            " |  clip : bool, default=False\n",
            " |      Set to True to clip transformed values of held-out data to\n",
            " |      provided `feature range`.\n",
            " |  \n",
            " |      .. versionadded:: 0.24\n",
            " |  \n",
            " |  Attributes\n",
            " |  ----------\n",
            " |  min_ : ndarray of shape (n_features,)\n",
            " |      Per feature adjustment for minimum. Equivalent to\n",
            " |      ``min - X.min(axis=0) * self.scale_``\n",
            " |  \n",
            " |  scale_ : ndarray of shape (n_features,)\n",
            " |      Per feature relative scaling of the data. Equivalent to\n",
            " |      ``(max - min) / (X.max(axis=0) - X.min(axis=0))``\n",
            " |  \n",
            " |      .. versionadded:: 0.17\n",
            " |         *scale_* attribute.\n",
            " |  \n",
            " |  data_min_ : ndarray of shape (n_features,)\n",
            " |      Per feature minimum seen in the data\n",
            " |  \n",
            " |      .. versionadded:: 0.17\n",
            " |         *data_min_*\n",
            " |  \n",
            " |  data_max_ : ndarray of shape (n_features,)\n",
            " |      Per feature maximum seen in the data\n",
            " |  \n",
            " |      .. versionadded:: 0.17\n",
            " |         *data_max_*\n",
            " |  \n",
            " |  data_range_ : ndarray of shape (n_features,)\n",
            " |      Per feature range ``(data_max_ - data_min_)`` seen in the data\n",
            " |  \n",
            " |      .. versionadded:: 0.17\n",
            " |         *data_range_*\n",
            " |  \n",
            " |  n_features_in_ : int\n",
            " |      Number of features seen during :term:`fit`.\n",
            " |  \n",
            " |      .. versionadded:: 0.24\n",
            " |  \n",
            " |  n_samples_seen_ : int\n",
            " |      The number of samples processed by the estimator.\n",
            " |      It will be reset on new calls to fit, but increments across\n",
            " |      ``partial_fit`` calls.\n",
            " |  \n",
            " |  feature_names_in_ : ndarray of shape (`n_features_in_`,)\n",
            " |      Names of features seen during :term:`fit`. Defined only when `X`\n",
            " |      has feature names that are all strings.\n",
            " |  \n",
            " |      .. versionadded:: 1.0\n",
            " |  \n",
            " |  See Also\n",
            " |  --------\n",
            " |  minmax_scale : Equivalent function without the estimator API.\n",
            " |  \n",
            " |  Notes\n",
            " |  -----\n",
            " |  NaNs are treated as missing values: disregarded in fit, and maintained in\n",
            " |  transform.\n",
            " |  \n",
            " |  For a comparison of the different scalers, transformers, and normalizers,\n",
            " |  see :ref:`examples/preprocessing/plot_all_scaling.py\n",
            " |  <sphx_glr_auto_examples_preprocessing_plot_all_scaling.py>`.\n",
            " |  \n",
            " |  Examples\n",
            " |  --------\n",
            " |  >>> from sklearn.preprocessing import MinMaxScaler\n",
            " |  >>> data = [[-1, 2], [-0.5, 6], [0, 10], [1, 18]]\n",
            " |  >>> scaler = MinMaxScaler()\n",
            " |  >>> print(scaler.fit(data))\n",
            " |  MinMaxScaler()\n",
            " |  >>> print(scaler.data_max_)\n",
            " |  [ 1. 18.]\n",
            " |  >>> print(scaler.transform(data))\n",
            " |  [[0.   0.  ]\n",
            " |   [0.25 0.25]\n",
            " |   [0.5  0.5 ]\n",
            " |   [1.   1.  ]]\n",
            " |  >>> print(scaler.transform([[2, 2]]))\n",
            " |  [[1.5 0. ]]\n",
            " |  \n",
            " |  Method resolution order:\n",
            " |      MinMaxScaler\n",
            " |      sklearn.base._OneToOneFeatureMixin\n",
            " |      sklearn.base.TransformerMixin\n",
            " |      sklearn.base.BaseEstimator\n",
            " |      builtins.object\n",
            " |  \n",
            " |  Methods defined here:\n",
            " |  \n",
            " |  __init__(self, feature_range=(0, 1), *, copy=True, clip=False)\n",
            " |      Initialize self.  See help(type(self)) for accurate signature.\n",
            " |  \n",
            " |  fit(self, X, y=None)\n",
            " |      Compute the minimum and maximum to be used for later scaling.\n",
            " |      \n",
            " |      Parameters\n",
            " |      ----------\n",
            " |      X : array-like of shape (n_samples, n_features)\n",
            " |          The data used to compute the per-feature minimum and maximum\n",
            " |          used for later scaling along the features axis.\n",
            " |      \n",
            " |      y : None\n",
            " |          Ignored.\n",
            " |      \n",
            " |      Returns\n",
            " |      -------\n",
            " |      self : object\n",
            " |          Fitted scaler.\n",
            " |  \n",
            " |  inverse_transform(self, X)\n",
            " |      Undo the scaling of X according to feature_range.\n",
            " |      \n",
            " |      Parameters\n",
            " |      ----------\n",
            " |      X : array-like of shape (n_samples, n_features)\n",
            " |          Input data that will be transformed. It cannot be sparse.\n",
            " |      \n",
            " |      Returns\n",
            " |      -------\n",
            " |      Xt : ndarray of shape (n_samples, n_features)\n",
            " |          Transformed data.\n",
            " |  \n",
            " |  partial_fit(self, X, y=None)\n",
            " |      Online computation of min and max on X for later scaling.\n",
            " |      \n",
            " |      All of X is processed as a single batch. This is intended for cases\n",
            " |      when :meth:`fit` is not feasible due to very large number of\n",
            " |      `n_samples` or because X is read from a continuous stream.\n",
            " |      \n",
            " |      Parameters\n",
            " |      ----------\n",
            " |      X : array-like of shape (n_samples, n_features)\n",
            " |          The data used to compute the mean and standard deviation\n",
            " |          used for later scaling along the features axis.\n",
            " |      \n",
            " |      y : None\n",
            " |          Ignored.\n",
            " |      \n",
            " |      Returns\n",
            " |      -------\n",
            " |      self : object\n",
            " |          Fitted scaler.\n",
            " |  \n",
            " |  transform(self, X)\n",
            " |      Scale features of X according to feature_range.\n",
            " |      \n",
            " |      Parameters\n",
            " |      ----------\n",
            " |      X : array-like of shape (n_samples, n_features)\n",
            " |          Input data that will be transformed.\n",
            " |      \n",
            " |      Returns\n",
            " |      -------\n",
            " |      Xt : ndarray of shape (n_samples, n_features)\n",
            " |          Transformed data.\n",
            " |  \n",
            " |  ----------------------------------------------------------------------\n",
            " |  Methods inherited from sklearn.base._OneToOneFeatureMixin:\n",
            " |  \n",
            " |  get_feature_names_out(self, input_features=None)\n",
            " |      Get output feature names for transformation.\n",
            " |      \n",
            " |      Parameters\n",
            " |      ----------\n",
            " |      input_features : array-like of str or None, default=None\n",
            " |          Input features.\n",
            " |      \n",
            " |          - If `input_features` is `None`, then `feature_names_in_` is\n",
            " |            used as feature names in. If `feature_names_in_` is not defined,\n",
            " |            then names are generated: `[x0, x1, ..., x(n_features_in_)]`.\n",
            " |          - If `input_features` is an array-like, then `input_features` must\n",
            " |            match `feature_names_in_` if `feature_names_in_` is defined.\n",
            " |      \n",
            " |      Returns\n",
            " |      -------\n",
            " |      feature_names_out : ndarray of str objects\n",
            " |          Same as input features.\n",
            " |  \n",
            " |  ----------------------------------------------------------------------\n",
            " |  Data descriptors inherited from sklearn.base._OneToOneFeatureMixin:\n",
            " |  \n",
            " |  __dict__\n",
            " |      dictionary for instance variables (if defined)\n",
            " |  \n",
            " |  __weakref__\n",
            " |      list of weak references to the object (if defined)\n",
            " |  \n",
            " |  ----------------------------------------------------------------------\n",
            " |  Methods inherited from sklearn.base.TransformerMixin:\n",
            " |  \n",
            " |  fit_transform(self, X, y=None, **fit_params)\n",
            " |      Fit to data, then transform it.\n",
            " |      \n",
            " |      Fits transformer to `X` and `y` with optional parameters `fit_params`\n",
            " |      and returns a transformed version of `X`.\n",
            " |      \n",
            " |      Parameters\n",
            " |      ----------\n",
            " |      X : array-like of shape (n_samples, n_features)\n",
            " |          Input samples.\n",
            " |      \n",
            " |      y :  array-like of shape (n_samples,) or (n_samples, n_outputs),                 default=None\n",
            " |          Target values (None for unsupervised transformations).\n",
            " |      \n",
            " |      **fit_params : dict\n",
            " |          Additional fit parameters.\n",
            " |      \n",
            " |      Returns\n",
            " |      -------\n",
            " |      X_new : ndarray array of shape (n_samples, n_features_new)\n",
            " |          Transformed array.\n",
            " |  \n",
            " |  ----------------------------------------------------------------------\n",
            " |  Methods inherited from sklearn.base.BaseEstimator:\n",
            " |  \n",
            " |  __getstate__(self)\n",
            " |  \n",
            " |  __repr__(self, N_CHAR_MAX=700)\n",
            " |      Return repr(self).\n",
            " |  \n",
            " |  __setstate__(self, state)\n",
            " |  \n",
            " |  get_params(self, deep=True)\n",
            " |      Get parameters for this estimator.\n",
            " |      \n",
            " |      Parameters\n",
            " |      ----------\n",
            " |      deep : bool, default=True\n",
            " |          If True, will return the parameters for this estimator and\n",
            " |          contained subobjects that are estimators.\n",
            " |      \n",
            " |      Returns\n",
            " |      -------\n",
            " |      params : dict\n",
            " |          Parameter names mapped to their values.\n",
            " |  \n",
            " |  set_params(self, **params)\n",
            " |      Set the parameters of this estimator.\n",
            " |      \n",
            " |      The method works on simple estimators as well as on nested objects\n",
            " |      (such as :class:`~sklearn.pipeline.Pipeline`). The latter have\n",
            " |      parameters of the form ``<component>__<parameter>`` so that it's\n",
            " |      possible to update each component of a nested object.\n",
            " |      \n",
            " |      Parameters\n",
            " |      ----------\n",
            " |      **params : dict\n",
            " |          Estimator parameters.\n",
            " |      \n",
            " |      Returns\n",
            " |      -------\n",
            " |      self : estimator instance\n",
            " |          Estimator instance.\n",
            "\n"
          ]
        }
      ]
    },
    {
      "cell_type": "code",
      "source": [
        "X_train_new = mms.fit_transform(X_train)\n",
        "X_test_new = mms.transform(X_test)"
      ],
      "metadata": {
        "id": "vmWe_04_jabu"
      },
      "execution_count": null,
      "outputs": []
    },
    {
      "cell_type": "code",
      "source": [
        "model.fit(X_train_new, y_train)\n",
        "model.score(X_test_new, y_test)"
      ],
      "metadata": {
        "colab": {
          "base_uri": "https://localhost:8080/"
        },
        "id": "ioWfmuO-jvQ0",
        "outputId": "d92252bf-bc24-4ca1-bd6e-dbfa1ffc2d83"
      },
      "execution_count": null,
      "outputs": [
        {
          "output_type": "execute_result",
          "data": {
            "text/plain": [
              "0.9"
            ]
          },
          "metadata": {},
          "execution_count": 16
        }
      ]
    },
    {
      "cell_type": "code",
      "source": [
        "X = df[['Gender', 'Age', 'EstimatedSalary']]\n",
        "y = df['Purchased']"
      ],
      "metadata": {
        "id": "7SXje4iykib1"
      },
      "execution_count": null,
      "outputs": []
    },
    {
      "cell_type": "code",
      "source": [
        "X_train, X_test, y_train, y_test = train_test_split(X, y, test_size = 0.2, random_state = 0, stratify = y)"
      ],
      "metadata": {
        "id": "jWZh6PNckwVi"
      },
      "execution_count": null,
      "outputs": []
    },
    {
      "cell_type": "code",
      "source": [
        "X_train_num = mms.fit_transform(X_train.iloc[:, 1:])\n",
        "X_test_num = mms.transform(X_test.iloc[:, 1:])"
      ],
      "metadata": {
        "id": "UXw31NHNky1A"
      },
      "execution_count": null,
      "outputs": []
    },
    {
      "cell_type": "code",
      "source": [
        "X_test_num"
      ],
      "metadata": {
        "colab": {
          "base_uri": "https://localhost:8080/"
        },
        "id": "RJJ8dcgylMZ7",
        "outputId": "fe372990-2a58-41a8-db90-5ecfd7908093"
      },
      "execution_count": null,
      "outputs": [
        {
          "output_type": "execute_result",
          "data": {
            "text/plain": [
              "array([[0.83333333, 0.14074074],\n",
              "       [0.78571429, 0.97037037],\n",
              "       [0.73809524, 0.93333333],\n",
              "       [0.4047619 , 0.31111111],\n",
              "       [0.66666667, 0.43703704],\n",
              "       [0.23809524, 0.8       ],\n",
              "       [0.80952381, 0.17037037],\n",
              "       [0.54761905, 0.32592593],\n",
              "       [0.69047619, 0.26666667],\n",
              "       [0.16666667, 0.47407407],\n",
              "       [0.73809524, 0.43703704],\n",
              "       [1.        , 0.64444444],\n",
              "       [0.4047619 , 0.17777778],\n",
              "       [0.47619048, 0.41481481],\n",
              "       [0.28571429, 0.34814815],\n",
              "       [0.4047619 , 0.08888889],\n",
              "       [0.52380952, 0.34074074],\n",
              "       [0.5952381 , 0.84444444],\n",
              "       [0.02380952, 0.08148148],\n",
              "       [0.19047619, 0.48148148],\n",
              "       [0.33333333, 1.        ],\n",
              "       [0.02380952, 0.40740741],\n",
              "       [0.47619048, 0.34074074],\n",
              "       [0.38095238, 0.20740741],\n",
              "       [0.4047619 , 0.21481481],\n",
              "       [0.19047619, 0.76296296],\n",
              "       [0.64285714, 0.12592593],\n",
              "       [0.19047619, 0.52592593],\n",
              "       [0.11904762, 0.37777778],\n",
              "       [0.52380952, 0.41481481],\n",
              "       [0.21428571, 0.54814815],\n",
              "       [0.66666667, 0.6       ],\n",
              "       [0.4047619 , 0.25925926],\n",
              "       [0.33333333, 0.02222222],\n",
              "       [0.45238095, 0.48148148],\n",
              "       [0.52380952, 0.94074074],\n",
              "       [0.71428571, 0.6       ],\n",
              "       [0.47619048, 0.32592593],\n",
              "       [0.54761905, 0.35555556],\n",
              "       [0.19047619, 0.48888889],\n",
              "       [0.85714286, 0.08148148],\n",
              "       [0.23809524, 0.32592593],\n",
              "       [0.4047619 , 0.34074074],\n",
              "       [0.45238095, 0.44444444],\n",
              "       [0.54761905, 0.42222222],\n",
              "       [0.57142857, 0.36296296],\n",
              "       [0.21428571, 0.54074074],\n",
              "       [0.11904762, 0.35555556],\n",
              "       [0.0952381 , 0.48888889],\n",
              "       [0.73809524, 0.17777778],\n",
              "       [0.52380952, 0.31111111],\n",
              "       [0.33333333, 0.75555556],\n",
              "       [0.69047619, 0.14074074],\n",
              "       [0.76190476, 0.03703704],\n",
              "       [0.73809524, 0.0962963 ],\n",
              "       [0.4047619 , 0.28148148],\n",
              "       [0.30952381, 0.76296296],\n",
              "       [0.83333333, 0.4962963 ],\n",
              "       [0.95238095, 0.05925926],\n",
              "       [0.28571429, 0.        ],\n",
              "       [0.66666667, 0.19259259],\n",
              "       [0.69047619, 0.23703704],\n",
              "       [0.21428571, 0.31851852],\n",
              "       [0.4047619 , 0.56296296],\n",
              "       [0.47619048, 0.2962963 ],\n",
              "       [0.45238095, 0.47407407],\n",
              "       [0.19047619, 0.48148148],\n",
              "       [0.66666667, 0.75555556],\n",
              "       [0.45238095, 0.95555556],\n",
              "       [0.45238095, 0.34814815],\n",
              "       [0.5       , 0.45925926],\n",
              "       [0.4047619 , 0.2962963 ],\n",
              "       [0.        , 0.21481481],\n",
              "       [0.0952381 , 0.2962963 ],\n",
              "       [0.97619048, 0.94814815],\n",
              "       [0.21428571, 0.11851852],\n",
              "       [0.35714286, 0.4       ],\n",
              "       [0.4047619 , 0.42962963],\n",
              "       [0.23809524, 0.32592593],\n",
              "       [0.57142857, 0.65925926]])"
            ]
          },
          "metadata": {},
          "execution_count": 25
        }
      ]
    },
    {
      "cell_type": "code",
      "source": [
        "from sklearn.preprocessing import OneHotEncoder, OrdinalEncoder \n",
        "ohe = OneHotEncoder(drop = 'first', sparse = False, handle_unknown = 'ignore')\n",
        "X_train_cat = ohe.fit_transform(X_train[['Gender']])\n",
        "X_test_cat = ohe.transform(X_test[['Gender']])"
      ],
      "metadata": {
        "id": "dqRnWPC9kC8-"
      },
      "execution_count": null,
      "outputs": []
    },
    {
      "cell_type": "code",
      "source": [
        "X_train_cat.shape, X_train_num.shape"
      ],
      "metadata": {
        "colab": {
          "base_uri": "https://localhost:8080/"
        },
        "id": "DwqkYRGRmcXE",
        "outputId": "9f5ff4b9-b30a-4ae2-dcd1-afbf139092b5"
      },
      "execution_count": null,
      "outputs": [
        {
          "output_type": "execute_result",
          "data": {
            "text/plain": [
              "((320, 1), (320, 2))"
            ]
          },
          "metadata": {},
          "execution_count": 38
        }
      ]
    },
    {
      "cell_type": "code",
      "source": [
        "X_train_new = np.hstack((X_train_cat, X_train_num))\n",
        "X_test_new = np.hstack((X_test_cat, X_test_num))"
      ],
      "metadata": {
        "id": "1Dh_ov74jzwD"
      },
      "execution_count": null,
      "outputs": []
    },
    {
      "cell_type": "code",
      "source": [
        "model.fit(X_train_new, y_train)\n",
        "model.score(X_test_new, y_test)"
      ],
      "metadata": {
        "colab": {
          "base_uri": "https://localhost:8080/"
        },
        "id": "gDP2hQxYj94M",
        "outputId": "e22644f9-4814-426a-86c8-024a305b58d3"
      },
      "execution_count": null,
      "outputs": [
        {
          "output_type": "execute_result",
          "data": {
            "text/plain": [
              "0.9125"
            ]
          },
          "metadata": {},
          "execution_count": 40
        }
      ]
    },
    {
      "cell_type": "code",
      "source": [
        "oe = OrdinalEncoder(handle_unknown='use_encoded_value', unknown_value=-1)\n",
        "X_train_cat = oe.fit_transform(X_train[['Gender']])\n",
        "X_test_cat = oe.transform(X_test[['Gender']])"
      ],
      "metadata": {
        "id": "IzY0eAjSnMKj"
      },
      "execution_count": null,
      "outputs": []
    },
    {
      "cell_type": "code",
      "source": [
        "X_train_new = np.hstack((X_train_cat, X_train_num))\n",
        "X_test_new = np.hstack((X_test_cat, X_test_num))"
      ],
      "metadata": {
        "id": "oZBV8LFknmPK"
      },
      "execution_count": null,
      "outputs": []
    },
    {
      "cell_type": "code",
      "source": [
        "model.fit(X_train_new, y_train)\n",
        "model.score(X_test_new, y_test)"
      ],
      "metadata": {
        "colab": {
          "base_uri": "https://localhost:8080/"
        },
        "id": "-Uodm7Nmnrb4",
        "outputId": "197cd87c-2b02-444f-a96e-8dc814911dd9"
      },
      "execution_count": null,
      "outputs": [
        {
          "output_type": "execute_result",
          "data": {
            "text/plain": [
              "0.9125"
            ]
          },
          "metadata": {},
          "execution_count": 47
        }
      ]
    },
    {
      "cell_type": "code",
      "source": [
        "# Get best value of K in knn\n",
        "import pandas as pd\n",
        "import numpy as np \n",
        "from sklearn.neighbors import KNeighborsRegressor\n",
        "from sklearn.model_selection import train_test_split"
      ],
      "metadata": {
        "id": "lh1rLAspntN8"
      },
      "execution_count": null,
      "outputs": []
    },
    {
      "cell_type": "code",
      "source": [
        "df = pd.read_csv(\"https://raw.githubusercontent.com/edyoda/data-science-complete-tutorial/master/Data/house_rental_data.csv.txt\")"
      ],
      "metadata": {
        "id": "AnowLLHCrkUY"
      },
      "execution_count": null,
      "outputs": []
    },
    {
      "cell_type": "code",
      "source": [
        "df = df.drop('Unnamed: 0', axis=1)"
      ],
      "metadata": {
        "id": "cCgT5ezWrplP"
      },
      "execution_count": null,
      "outputs": []
    },
    {
      "cell_type": "code",
      "source": [
        "X = df.drop('Price', axis=1)\n",
        "y = df['Price']"
      ],
      "metadata": {
        "id": "enWxi5-Pr9Xi"
      },
      "execution_count": null,
      "outputs": []
    },
    {
      "cell_type": "code",
      "source": [
        "# df.iloc[:, :-1] "
      ],
      "metadata": {
        "id": "Kh_yBXc9sMah"
      },
      "execution_count": null,
      "outputs": []
    },
    {
      "cell_type": "code",
      "source": [
        "X_train, X_test, y_train, y_test = train_test_split(X, y, test_size = 0.2, random_state = 0)"
      ],
      "metadata": {
        "id": "PERRKTe1rqLa"
      },
      "execution_count": null,
      "outputs": []
    },
    {
      "cell_type": "code",
      "source": [
        "from sklearn.preprocessing import MinMaxScaler\n",
        "sc = MinMaxScaler()\n",
        "X_train_scaled = sc.fit_transform(X_train)\n",
        "X_test_scaled = sc.transform(X_test)"
      ],
      "metadata": {
        "id": "W--2TyVtsdRk"
      },
      "execution_count": null,
      "outputs": []
    },
    {
      "cell_type": "code",
      "source": [
        "model_score = []\n",
        "for k in range(1, 50):\n",
        "  model = KNeighborsRegressor(n_neighbors = k)\n",
        "  model.fit(X_train_scaled, y_train)\n",
        "  mdl_scr = model.score(X_test_scaled, y_test)\n",
        "  model_score.append(mdl_scr*100)"
      ],
      "metadata": {
        "id": "L0PiTp1BsoGS"
      },
      "execution_count": null,
      "outputs": []
    },
    {
      "cell_type": "code",
      "source": [
        "import matplotlib.pyplot as plt\n",
        "plt.figure(figsize= (20, 5))\n",
        "plt.plot([str(i) for i in range(1, 50)], model_score, color = 'red')"
      ],
      "metadata": {
        "colab": {
          "base_uri": "https://localhost:8080/",
          "height": 330
        },
        "id": "iGpTJ61Jt9sB",
        "outputId": "f5e6ab87-908d-4e23-8fe1-ea4e0a5abf67"
      },
      "execution_count": null,
      "outputs": [
        {
          "output_type": "execute_result",
          "data": {
            "text/plain": [
              "[<matplotlib.lines.Line2D at 0x7f69fdde8610>]"
            ]
          },
          "metadata": {},
          "execution_count": 26
        },
        {
          "output_type": "display_data",
          "data": {
            "text/plain": [
              "<Figure size 1440x360 with 1 Axes>"
            ],
            "image/png": "[encoded data removed]"
          },
          "metadata": {
            "needs_background": "light"
          }
        }
      ]
    },
    {
      "cell_type": "code",
      "source": [
        "# folder\n",
        "  # img1 \n",
        "    # 1, 1, 1, 1\n",
        "  # img2\n",
        "    # 2, 2, 2, 2\n",
        "  # img3\n",
        "    # 3, 3, 3, 3\n",
        "  # img4\n",
        "    # 4, 4, 4, 4\n",
        "# \n",
        "# "
      ],
      "metadata": {
        "id": "3dE7jeJDuCu_"
      },
      "execution_count": null,
      "outputs": []
    },
    {
      "cell_type": "code",
      "source": [
        "f = 'folder/img1'"
      ],
      "metadata": {
        "id": "A7EOa5eD8Xto"
      },
      "execution_count": null,
      "outputs": []
    },
    {
      "cell_type": "code",
      "source": [
        "import matplotlib.pyplot as plt\n",
        "all_images = []\n",
        "label = []\n",
        "for img in folder/img1:\n",
        "  all_images.append(plt.imread(img))\n",
        "  lebel.append(f[-1])"
      ],
      "metadata": {
        "id": "4Dt0u3Xg8BEZ"
      },
      "execution_count": null,
      "outputs": []
    }
  ]
}